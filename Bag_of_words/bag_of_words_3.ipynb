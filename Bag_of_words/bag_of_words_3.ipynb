{
 "cells": [
  {
   "cell_type": "code",
   "execution_count": 34,
   "metadata": {
    "collapsed": false
   },
   "outputs": [],
   "source": [
    "# Load the model that we created in Part 2\n",
    "from gensim.models import Word2Vec\n",
    "import numpy as np  # Make sure that numpy is imported\n",
    "import pandas as pd\n",
    "from bs4 import BeautifulSoup\n",
    "import re\n",
    "from nltk.corpus import stopwords\n",
    "model = Word2Vec.load(\"300features_40minwords_10context\")\n",
    "\n",
    "train = pd.read_csv(\"labeledTrainData.tsv\", header=0, delimiter=\"\\t\", quoting=3)\n",
    "test = pd.read_csv(\"testData.tsv\", header=0, delimiter=\"\\t\", quoting=3)\n",
    "unlabeled_train = pd.read_csv(\"unlabeledTrainData.tsv\", header=0, delimiter=\"\\t\", quoting=3)"
   ]
  },
  {
   "cell_type": "code",
   "execution_count": 35,
   "metadata": {
    "collapsed": false
   },
   "outputs": [
    {
     "data": {
      "text/plain": [
       "numpy.ndarray"
      ]
     },
     "execution_count": 35,
     "metadata": {},
     "output_type": "execute_result"
    }
   ],
   "source": [
    "type(model.wv.syn0)"
   ]
  },
  {
   "cell_type": "code",
   "execution_count": 36,
   "metadata": {
    "collapsed": false
   },
   "outputs": [
    {
     "data": {
      "text/plain": [
       "(16490, 300)"
      ]
     },
     "execution_count": 36,
     "metadata": {},
     "output_type": "execute_result"
    }
   ],
   "source": [
    "model.wv.syn0.shape"
   ]
  },
  {
   "cell_type": "code",
   "execution_count": 37,
   "metadata": {
    "collapsed": false,
    "scrolled": true
   },
   "outputs": [
    {
     "data": {
      "text/plain": [
       "array([  9.60964262e-02,   1.48660108e-01,  -7.05302460e-03,\n",
       "        -3.80819328e-02,  -1.97653333e-03,   1.56424288e-02,\n",
       "        -3.58977057e-02,   2.72922404e-02,   1.17391102e-01,\n",
       "        -7.11113587e-02,   4.71835919e-02,   2.76274439e-02,\n",
       "         5.82232065e-02,  -1.01643009e-03,   8.19908902e-02,\n",
       "        -5.63554466e-02,  -7.95818307e-03,   2.60318792e-03,\n",
       "         4.46205307e-03,   1.55150741e-02,  -1.01501904e-01,\n",
       "         3.35950293e-02,   6.02126122e-02,   2.96408832e-02,\n",
       "         1.44431870e-02,  -3.71579686e-03,   5.81015553e-03,\n",
       "         5.89887910e-02,  -9.39505734e-03,   4.37740050e-02,\n",
       "         3.63908224e-02,  -5.35665117e-02,  -2.96295024e-02,\n",
       "         4.38000299e-02,   1.00670382e-03,  -4.54976037e-02,\n",
       "         1.60219539e-02,  -4.19584215e-02,   1.32502364e-02,\n",
       "         2.02988852e-02,  -7.62125850e-02,   3.87583040e-02,\n",
       "         2.95232497e-02,  -3.98501530e-02,  -6.68181852e-02,\n",
       "        -8.98217112e-02,  -3.51164155e-02,  -5.04063396e-03,\n",
       "         3.02369185e-02,   2.09506359e-02,   1.83829460e-02,\n",
       "        -6.02249568e-03,   1.03751540e-01,   5.58962002e-02,\n",
       "         8.95349681e-02,   7.52652809e-02,  -1.88163891e-02,\n",
       "        -1.05074354e-01,  -4.20559458e-02,  -1.09180756e-01,\n",
       "         1.11613120e-03,   2.61527095e-02,  -3.37381065e-02,\n",
       "        -7.97790438e-02,  -2.76293848e-02,   8.99720788e-02,\n",
       "         6.60760328e-02,   1.01847187e-01,   3.39110978e-02,\n",
       "        -4.09502871e-02,  -1.52036212e-02,   5.34994900e-02,\n",
       "        -2.14868691e-02,   6.82904199e-03,  -4.03989851e-02,\n",
       "        -1.25107229e-01,   2.05969643e-02,   4.01144028e-02,\n",
       "         1.05940886e-02,   6.35854676e-02,   6.18763603e-02,\n",
       "        -2.62128524e-02,   6.09770082e-02,  -4.84923609e-02,\n",
       "         6.91134781e-02,  -4.08787020e-02,  -6.23143418e-03,\n",
       "         1.00130983e-01,   2.53821183e-02,   5.13812853e-03,\n",
       "        -6.05149716e-02,   8.56604427e-02,  -4.80786487e-02,\n",
       "         6.50671497e-02,  -1.76204536e-02,   1.48509480e-02,\n",
       "         2.41920562e-03,   6.07169932e-04,   2.60917060e-02,\n",
       "         6.65269122e-02,   3.71179357e-02,   1.60391293e-02,\n",
       "        -7.29873925e-02,   1.36169577e-02,  -3.00399438e-02,\n",
       "        -6.11727871e-02,  -4.65112366e-02,   1.52491909e-02,\n",
       "         6.37365803e-02,  -4.40288745e-02,  -3.35926097e-03,\n",
       "        -2.43650135e-02,  -9.76923667e-03,  -6.24726899e-02,\n",
       "        -1.53122554e-02,   5.26171252e-02,  -3.03294864e-02,\n",
       "        -5.30121326e-02,   1.39304241e-02,   1.21701874e-01,\n",
       "         3.58370356e-02,  -1.80056393e-02,  -5.49376383e-02,\n",
       "        -3.34020667e-02,  -3.35216038e-02,  -6.23270608e-02,\n",
       "         1.14324223e-02,   2.33619846e-02,  -3.43356282e-02,\n",
       "         7.95837343e-02,   8.76846686e-02,  -1.29580781e-01,\n",
       "         6.32215813e-02,  -6.53925315e-02,   1.72602814e-02,\n",
       "        -2.52666436e-02,   1.77887958e-02,  -9.51728523e-02,\n",
       "        -2.20086742e-02,  -1.21730283e-01,  -4.83262241e-02,\n",
       "         8.19081292e-02,  -2.55699940e-02,  -8.19486007e-02,\n",
       "         1.28874406e-01,  -5.94884157e-02,   1.26735404e-01,\n",
       "         1.54658258e-01,   8.64548013e-02,  -9.08529833e-02,\n",
       "         1.07227489e-02,  -9.90748778e-02,  -5.21755666e-02,\n",
       "         1.32225896e-03,   6.40605167e-02,   5.16881607e-02,\n",
       "         1.49204880e-01,  -1.75936427e-02,  -4.40922827e-02,\n",
       "         1.17684454e-01,   5.54653537e-03,  -3.61132957e-02,\n",
       "        -6.63584843e-02,  -1.53409382e-02,   5.30924983e-02,\n",
       "         1.25904633e-02,   1.99362170e-02,  -9.47242677e-02,\n",
       "        -1.21217454e-03,   1.95846092e-02,   2.94362959e-02,\n",
       "        -1.21808099e-02,  -7.99436942e-02,  -2.11891253e-02,\n",
       "         1.08156174e-01,   1.06185421e-01,   5.89807816e-02,\n",
       "        -6.05224445e-02,  -8.88294131e-02,   7.37185478e-02,\n",
       "        -4.33539338e-02,   1.85661241e-02,  -1.09935841e-02,\n",
       "        -4.82112765e-02,   3.03689390e-02,  -1.65045038e-02,\n",
       "         8.13374072e-02,  -1.28130510e-01,   6.12495793e-03,\n",
       "         5.96526675e-02,   6.64317012e-02,   2.37407889e-02,\n",
       "        -2.80478504e-02,  -4.03896235e-02,  -3.76001149e-02,\n",
       "         4.31448705e-02,  -2.88200844e-02,   2.82757506e-02,\n",
       "         1.08642504e-01,   2.61656474e-02,   4.84849140e-02,\n",
       "         6.21122383e-02,   1.45501969e-02,  -2.02372740e-03,\n",
       "         1.29031818e-02,   3.94614786e-03,  -1.06798727e-02,\n",
       "         3.11827958e-02,  -4.89968769e-02,  -5.92587925e-02,\n",
       "        -3.78923267e-02,   2.29490269e-02,   3.00224386e-02,\n",
       "         6.76328689e-02,   4.17811275e-02,   1.61260758e-02,\n",
       "        -4.89492267e-02,   5.21480367e-02,   6.87906444e-02,\n",
       "         2.23297291e-02,   9.79149714e-02,  -5.02055623e-02,\n",
       "        -1.50068104e-02,   4.33594873e-03,  -1.45406783e-01,\n",
       "         6.47767484e-02,   3.71170714e-02,  -1.01676127e-02,\n",
       "         6.78859428e-02,   2.56211814e-02,   2.14137197e-01,\n",
       "         8.62025395e-02,   4.75183353e-02,  -2.99272444e-02,\n",
       "        -3.75282168e-02,   2.87165642e-02,   8.03716108e-02,\n",
       "         7.66375661e-02,   4.68254685e-02,   2.68669277e-02,\n",
       "        -1.70771144e-02,  -4.81381901e-02,  -1.61234178e-02,\n",
       "        -1.56080239e-02,   6.91577196e-02,   6.60939664e-02,\n",
       "         5.13201393e-02,  -2.34444961e-02,   3.13893519e-02,\n",
       "         5.11951707e-02,  -5.21600321e-02,   4.23918776e-02,\n",
       "         4.83293645e-02,   9.82204732e-03,   5.49043715e-02,\n",
       "        -2.49461401e-02,   6.75623491e-02,   1.10663809e-01,\n",
       "        -7.85183255e-03,   3.56519409e-02,  -5.43971099e-02,\n",
       "        -8.11263621e-02,  -3.23788673e-02,   7.06731603e-02,\n",
       "         4.87328023e-02,  -9.81195495e-02,  -4.10757251e-02,\n",
       "         3.00077423e-02,   6.48102956e-03,   3.90347233e-03,\n",
       "         3.06691118e-02,   2.76608001e-02,  -4.66884375e-02,\n",
       "         3.50085832e-02,   1.06048202e-02,   5.39103746e-02,\n",
       "         7.61149172e-03,   2.11816188e-02,  -6.33746572e-03,\n",
       "        -3.48803997e-02,   2.01529078e-02,  -5.65540418e-02,\n",
       "         6.90117404e-02,  -1.60943557e-04,  -9.54416171e-02,\n",
       "        -1.08210770e-02,   2.41674166e-02,   3.59638408e-02,\n",
       "         6.37028664e-02,   2.81076208e-02,   8.52139294e-02,\n",
       "        -3.06321494e-03,   1.83840338e-02,  -4.03067395e-02,\n",
       "         3.26926596e-02,  -5.43216094e-02,  -5.44829294e-02,\n",
       "         1.22589752e-01,  -2.22956259e-02,  -9.27164704e-02], dtype=float32)"
      ]
     },
     "execution_count": 37,
     "metadata": {},
     "output_type": "execute_result"
    }
   ],
   "source": [
    "model[\"flower\"]"
   ]
  },
  {
   "cell_type": "code",
   "execution_count": 47,
   "metadata": {
    "collapsed": true
   },
   "outputs": [],
   "source": [
    "def makeFeatureVec(words, model, num_features):\n",
    "    # Function to average all of the word vectors in a given\n",
    "    # paragraph\n",
    "    #\n",
    "    # Pre-initialize an empty numpy array (for speed)\n",
    "    featureVec = np.zeros((num_features,),dtype=\"float32\")\n",
    "    #\n",
    "    nwords = 0.\n",
    "    # \n",
    "    # Index2word is a list that contains the names of the words in \n",
    "    # the model's vocabulary. Convert it to a set, for speed \n",
    "    index2word_set = set(model.wv.index2word)\n",
    "    #\n",
    "    # Loop over each word in the review and, if it is in the model's\n",
    "    # vocaublary, add its feature vector to the total\n",
    "    for word in words:\n",
    "        if word in index2word_set: \n",
    "            nwords = nwords + 1.\n",
    "            featureVec = np.add(featureVec,model[word])\n",
    "    # \n",
    "    # Divide the result by the number of words to get the average\n",
    "    featureVec = np.divide(featureVec,nwords)\n",
    "    return featureVec"
   ]
  },
  {
   "cell_type": "code",
   "execution_count": 48,
   "metadata": {
    "collapsed": false
   },
   "outputs": [],
   "source": [
    "def getAvgFeatureVecs(reviews, model, num_features):\n",
    "    counter = 0.\n",
    "    reviewFeatureVecs = np.zeros((len(reviews),num_features),dtype=\"float32\")\n",
    "    for review in reviews:\n",
    "        if counter%1000. == 0.:\n",
    "            print (\"Review %d of %d\" % (counter, len(reviews)))\n",
    "        reviewFeatureVecs[counter] = makeFeatureVec(review, model, num_features)\n",
    "        counter = counter + 1.\n",
    "    return reviewFeatureVecs"
   ]
  },
  {
   "cell_type": "code",
   "execution_count": 49,
   "metadata": {
    "collapsed": true
   },
   "outputs": [],
   "source": [
    "def review_to_wordlist( review, remove_stopwords=False ):\n",
    "    review_text = BeautifulSoup(review,\"lxml\").get_text()\n",
    "    review_text = re.sub(\"[^a-zA-Z]\",\" \", review_text)\n",
    "    words = review_text.lower().split()\n",
    "    if remove_stopwords:\n",
    "        stops = set(stopwords.words(\"english\"))\n",
    "        words = [w for w in words if not w in stops]\n",
    "    return(words)"
   ]
  },
  {
   "cell_type": "code",
   "execution_count": 50,
   "metadata": {
    "collapsed": false
   },
   "outputs": [
    {
     "name": "stdout",
     "output_type": "stream",
     "text": [
      "Review 0 of 25000\n",
      "Review 1000 of 25000\n",
      "Review 2000 of 25000\n",
      "Review 3000 of 25000\n",
      "Review 4000 of 25000\n",
      "Review 5000 of 25000\n",
      "Review 6000 of 25000\n",
      "Review 7000 of 25000\n",
      "Review 8000 of 25000\n",
      "Review 9000 of 25000\n",
      "Review 10000 of 25000\n",
      "Review 11000 of 25000\n",
      "Review 12000 of 25000\n",
      "Review 13000 of 25000\n",
      "Review 14000 of 25000\n",
      "Review 15000 of 25000\n",
      "Review 16000 of 25000\n",
      "Review 17000 of 25000\n",
      "Review 18000 of 25000\n",
      "Review 19000 of 25000\n",
      "Review 20000 of 25000\n",
      "Review 21000 of 25000\n",
      "Review 22000 of 25000\n",
      "Review 23000 of 25000\n",
      "Review 24000 of 25000\n",
      "Creating average feature vecs for test reviews\n",
      "Review 0 of 25000\n",
      "Review 1000 of 25000\n",
      "Review 2000 of 25000\n",
      "Review 3000 of 25000\n",
      "Review 4000 of 25000\n",
      "Review 5000 of 25000\n",
      "Review 6000 of 25000\n",
      "Review 7000 of 25000\n",
      "Review 8000 of 25000\n",
      "Review 9000 of 25000\n",
      "Review 10000 of 25000\n",
      "Review 11000 of 25000\n",
      "Review 12000 of 25000\n",
      "Review 13000 of 25000\n",
      "Review 14000 of 25000\n",
      "Review 15000 of 25000\n",
      "Review 16000 of 25000\n",
      "Review 17000 of 25000\n",
      "Review 18000 of 25000\n",
      "Review 19000 of 25000\n",
      "Review 20000 of 25000\n",
      "Review 21000 of 25000\n",
      "Review 22000 of 25000\n",
      "Review 23000 of 25000\n",
      "Review 24000 of 25000\n"
     ]
    }
   ],
   "source": [
    "num_features = 300\n",
    "clean_train_reviews = []\n",
    "for review in train[\"review\"]:\n",
    "    clean_train_reviews.append(review_to_wordlist(review, remove_stopwords=True))\n",
    "\n",
    "trainDataVecs = getAvgFeatureVecs(clean_train_reviews, model, num_features)\n",
    "\n",
    "print (\"Creating average feature vecs for test reviews\")\n",
    "clean_test_reviews = []\n",
    "for review in test[\"review\"]:\n",
    "    clean_test_reviews.append(review_to_wordlist(review, remove_stopwords=True))\n",
    "\n",
    "testDataVecs = getAvgFeatureVecs(clean_test_reviews, model, num_features)"
   ]
  },
  {
   "cell_type": "code",
   "execution_count": 51,
   "metadata": {
    "collapsed": false
   },
   "outputs": [
    {
     "name": "stdout",
     "output_type": "stream",
     "text": [
      "Fitting a random forest to labeled training data...\n"
     ]
    }
   ],
   "source": [
    "from sklearn.ensemble import RandomForestClassifier\n",
    "forest = RandomForestClassifier( n_estimators = 100 )\n",
    "\n",
    "print (\"Fitting a random forest to labeled training data...\")\n",
    "forest = forest.fit( trainDataVecs, train[\"sentiment\"] )\n",
    "\n",
    "result = forest.predict( testDataVecs )\n",
    "\n",
    "output = pd.DataFrame( data={\"id\":test[\"id\"], \"sentiment\":result} )\n",
    "output.to_csv( \"Word2Vec_AverageVectors.csv\", index=False, quoting=3 )"
   ]
  },
  {
   "cell_type": "code",
   "execution_count": 56,
   "metadata": {
    "collapsed": false
   },
   "outputs": [
    {
     "name": "stdout",
     "output_type": "stream",
     "text": [
      "Time taken for K Means clustering:  739.755966424942 seconds.\n"
     ]
    }
   ],
   "source": [
    "from sklearn.cluster import KMeans\n",
    "import time\n",
    "\n",
    "start = time.time() # Start time\n",
    "\n",
    "# Set \"k\" (num_clusters) to be 1/5th of the vocabulary size, or an\n",
    "# average of 5 words per cluster\n",
    "word_vectors = model.wv.syn0\n",
    "num_clusters = int(word_vectors.shape[0] / 5)\n",
    "\n",
    "# Initalize a k-means object and use it to extract centroids\n",
    "kmeans_clustering = KMeans( n_clusters = num_clusters )\n",
    "idx = kmeans_clustering.fit_predict( word_vectors )\n",
    "\n",
    "# Get the end time and print how long the process took\n",
    "end = time.time()\n",
    "elapsed = end - start\n",
    "print (\"Time taken for K Means clustering: \", elapsed, \"seconds.\")"
   ]
  },
  {
   "cell_type": "code",
   "execution_count": 58,
   "metadata": {
    "collapsed": false
   },
   "outputs": [],
   "source": [
    "word_centroid_map = dict(zip( model.wv.index2word, idx ))"
   ]
  },
  {
   "cell_type": "code",
   "execution_count": 66,
   "metadata": {
    "collapsed": false
   },
   "outputs": [
    {
     "name": "stdout",
     "output_type": "stream",
     "text": [
      "\n",
      "Cluster 0\n",
      "['khan', 'salman', 'saif', 'aamir', 'shahrukh', 'kajol']\n",
      "\n",
      "Cluster 1\n",
      "['intervention', 'conversion', 'interference', 'delay', 'eliminating']\n",
      "\n",
      "Cluster 2\n",
      "['shields', 'brooke', 'selma']\n",
      "\n",
      "Cluster 3\n",
      "['employs', 'utilizing', 'expanding', 'employing', 'crafts']\n",
      "\n",
      "Cluster 4\n",
      "['water', 'cars', 'rain', 'snow', 'walls', 'horses', 'rocks', 'trees', 'buildings', 'rooms', 'objects', 'fog', 'sand', 'waves', 'stones', 'furniture', 'grass', 'clouds', 'skies', 'mist', 'floors', 'candles', 'overhead', 'sunlight', 'halls', 'forests']\n",
      "\n",
      "Cluster 5\n",
      "['scope']\n",
      "\n",
      "Cluster 6\n",
      "['pregnant', 'deceased', 'divorced', 'estranged', 'widowed', 'lila', 'grieving', 'distraught', 'orphaned', 'groom', 'aurora', 'delilah', 'heartbroken', 'prematurely', 'domineering', 'alexei']\n",
      "\n",
      "Cluster 7\n",
      "['screams', 'cries', 'yells', 'stabs', 'shouts', 'digs', 'screamed', 'barking', 'shouted', 'stared']\n",
      "\n",
      "Cluster 8\n",
      "['captain', 'commander', 'colonel', 'marine', 'vet', 'fugitive', 'patton', 'gen', 'roosevelt', 'col', 'marshal', 'admiral', 'garrison', 'assassinated', 'pike', 'commandant', 'disgraced', 'raf']\n",
      "\n",
      "Cluster 9\n",
      "['finished', 'stopped', 'completed']\n"
     ]
    }
   ],
   "source": [
    "for cluster in range(0,10):\n",
    "    #\n",
    "    # Print the cluster number  \n",
    "    print (\"\\nCluster %d\" % cluster)\n",
    "    #\n",
    "    # Find all of the words for that cluster number, and print them out\n",
    "    value = list(word_centroid_map.values())\n",
    "    key = list(word_centroid_map.keys())\n",
    "    words = []\n",
    "    for i in range(0,len(word_centroid_map.values())):\n",
    "        if( value[i] == cluster ):\n",
    "            words.append(key[i])\n",
    "    print(words)"
   ]
  },
  {
   "cell_type": "code",
   "execution_count": 67,
   "metadata": {
    "collapsed": true
   },
   "outputs": [],
   "source": [
    "def create_bag_of_centroids( wordlist, word_centroid_map ):\n",
    "    #\n",
    "    # The number of clusters is equal to the highest cluster index\n",
    "    # in the word / centroid map\n",
    "    num_centroids = max( word_centroid_map.values() ) + 1\n",
    "    #\n",
    "    # Pre-allocate the bag of centroids vector (for speed)\n",
    "    bag_of_centroids = np.zeros( num_centroids, dtype=\"float32\" )\n",
    "    #\n",
    "    # Loop over the words in the review. If the word is in the vocabulary,\n",
    "    # find which cluster it belongs to, and increment that cluster count \n",
    "    # by one\n",
    "    for word in wordlist:\n",
    "        if word in word_centroid_map:\n",
    "            index = word_centroid_map[word]\n",
    "            bag_of_centroids[index] += 1\n",
    "    #\n",
    "    # Return the \"bag of centroids\"\n",
    "    return bag_of_centroids"
   ]
  },
  {
   "cell_type": "code",
   "execution_count": 68,
   "metadata": {
    "collapsed": true
   },
   "outputs": [],
   "source": [
    "# Pre-allocate an array for the training set bags of centroids (for speed)\n",
    "train_centroids = np.zeros( (train[\"review\"].size, num_clusters), \\\n",
    "    dtype=\"float32\" )\n",
    "\n",
    "# Transform the training set reviews into bags of centroids\n",
    "counter = 0\n",
    "for review in clean_train_reviews:\n",
    "    train_centroids[counter] = create_bag_of_centroids( review, \\\n",
    "        word_centroid_map )\n",
    "    counter += 1\n",
    "\n",
    "# Repeat for test reviews \n",
    "test_centroids = np.zeros(( test[\"review\"].size, num_clusters), \\\n",
    "    dtype=\"float32\" )\n",
    "\n",
    "counter = 0\n",
    "for review in clean_test_reviews:\n",
    "    test_centroids[counter] = create_bag_of_centroids( review, \\\n",
    "        word_centroid_map )\n",
    "    counter += 1"
   ]
  },
  {
   "cell_type": "code",
   "execution_count": 70,
   "metadata": {
    "collapsed": false
   },
   "outputs": [
    {
     "name": "stdout",
     "output_type": "stream",
     "text": [
      "Fitting a random forest to labeled training data...\n"
     ]
    }
   ],
   "source": [
    "# Fit a random forest and extract predictions \n",
    "forest = RandomForestClassifier(n_estimators = 100)\n",
    "\n",
    "# Fitting the forest may take a few minutes\n",
    "print (\"Fitting a random forest to labeled training data...\")\n",
    "forest = forest.fit(train_centroids,train[\"sentiment\"])\n",
    "result = forest.predict(test_centroids)\n",
    "\n",
    "# Write the test results \n",
    "output = pd.DataFrame(data={\"id\":test[\"id\"], \"sentiment\":result})\n",
    "output.to_csv( \"BagOfCentroids.csv\", index=False, quoting=3 )"
   ]
  },
  {
   "cell_type": "code",
   "execution_count": null,
   "metadata": {
    "collapsed": true
   },
   "outputs": [],
   "source": []
  }
 ],
 "metadata": {
  "kernelspec": {
   "display_name": "Python 3",
   "language": "python",
   "name": "python3"
  },
  "language_info": {
   "codemirror_mode": {
    "name": "ipython",
    "version": 3
   },
   "file_extension": ".py",
   "mimetype": "text/x-python",
   "name": "python",
   "nbconvert_exporter": "python",
   "pygments_lexer": "ipython3",
   "version": "3.6.0"
  }
 },
 "nbformat": 4,
 "nbformat_minor": 2
}
