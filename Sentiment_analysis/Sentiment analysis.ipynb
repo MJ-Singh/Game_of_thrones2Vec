{
 "cells": [
  {
   "cell_type": "markdown",
   "metadata": {},
   "source": [
    "# Make one validation set and see the patern between models to ensemble"
   ]
  },
  {
   "cell_type": "code",
   "execution_count": 1,
   "metadata": {
    "collapsed": true
   },
   "outputs": [],
   "source": [
    "# Load Libraries\n",
    "import numpy as np\n",
    "import pandas as pd\n",
    "from nltk.corpus import stopwords\n",
    "from nltk.stem import PorterStemmer\n",
    "from sklearn.preprocessing import LabelEncoder\n",
    "import re\n",
    "from sklearn.feature_extraction.text import CountVectorizer, TfidfVectorizer\n",
    "from sklearn.model_selection import cross_val_score\n",
    "from sklearn.metrics import accuracy_score, make_scorer"
   ]
  },
  {
   "cell_type": "code",
   "execution_count": 2,
   "metadata": {},
   "outputs": [
    {
     "name": "stderr",
     "output_type": "stream",
     "text": [
      "/home/itachi/anaconda3/envs/tensorflow/lib/python3.5/site-packages/sklearn/cross_validation.py:44: DeprecationWarning: This module was deprecated in version 0.18 in favor of the model_selection module into which all the refactored classes and functions are moved. Also note that the interface of the new CV iterators are different from that of this module. This module will be removed in 0.20.\n",
      "  \"This module will be removed in 0.20.\", DeprecationWarning)\n"
     ]
    }
   ],
   "source": [
    "# Models\n",
    "import lightgbm as lgb\n",
    "from xgboost import XGBClassifier\n",
    "from sklearn.neural_network import MLPClassifier\n",
    "from sklearn.linear_model import LogisticRegression\n",
    "from sklearn.ensemble import GradientBoostingClassifier\n",
    "from sklearn.naive_bayes import GaussianNB"
   ]
  },
  {
   "cell_type": "code",
   "execution_count": 3,
   "metadata": {},
   "outputs": [],
   "source": [
    "# load data\n",
    "train = pd.read_csv(\"train.csv\")\n",
    "test = pd.read_csv(\"test.csv\")"
   ]
  },
  {
   "cell_type": "code",
   "execution_count": 4,
   "metadata": {},
   "outputs": [
    {
     "data": {
      "text/html": [
       "<div>\n",
       "<style>\n",
       "    .dataframe thead tr:only-child th {\n",
       "        text-align: right;\n",
       "    }\n",
       "\n",
       "    .dataframe thead th {\n",
       "        text-align: left;\n",
       "    }\n",
       "\n",
       "    .dataframe tbody tr th {\n",
       "        vertical-align: top;\n",
       "    }\n",
       "</style>\n",
       "<table border=\"1\" class=\"dataframe\">\n",
       "  <thead>\n",
       "    <tr style=\"text-align: right;\">\n",
       "      <th></th>\n",
       "      <th>User_ID</th>\n",
       "      <th>Description</th>\n",
       "      <th>Browser_Used</th>\n",
       "      <th>Device_Used</th>\n",
       "      <th>Is_Response</th>\n",
       "    </tr>\n",
       "  </thead>\n",
       "  <tbody>\n",
       "    <tr>\n",
       "      <th>0</th>\n",
       "      <td>id10326</td>\n",
       "      <td>The room was kind of clean but had a VERY stro...</td>\n",
       "      <td>Edge</td>\n",
       "      <td>Mobile</td>\n",
       "      <td>not happy</td>\n",
       "    </tr>\n",
       "    <tr>\n",
       "      <th>1</th>\n",
       "      <td>id10327</td>\n",
       "      <td>I stayed at the Crown Plaza April -- - April -...</td>\n",
       "      <td>Internet Explorer</td>\n",
       "      <td>Mobile</td>\n",
       "      <td>not happy</td>\n",
       "    </tr>\n",
       "    <tr>\n",
       "      <th>2</th>\n",
       "      <td>id10328</td>\n",
       "      <td>I booked this hotel through Hotwire at the low...</td>\n",
       "      <td>Mozilla</td>\n",
       "      <td>Tablet</td>\n",
       "      <td>not happy</td>\n",
       "    </tr>\n",
       "    <tr>\n",
       "      <th>3</th>\n",
       "      <td>id10329</td>\n",
       "      <td>Stayed here with husband and sons on the way t...</td>\n",
       "      <td>InternetExplorer</td>\n",
       "      <td>Desktop</td>\n",
       "      <td>happy</td>\n",
       "    </tr>\n",
       "    <tr>\n",
       "      <th>4</th>\n",
       "      <td>id10330</td>\n",
       "      <td>My girlfriends and I stayed here to celebrate ...</td>\n",
       "      <td>Edge</td>\n",
       "      <td>Tablet</td>\n",
       "      <td>not happy</td>\n",
       "    </tr>\n",
       "  </tbody>\n",
       "</table>\n",
       "</div>"
      ],
      "text/plain": [
       "   User_ID                                        Description  \\\n",
       "0  id10326  The room was kind of clean but had a VERY stro...   \n",
       "1  id10327  I stayed at the Crown Plaza April -- - April -...   \n",
       "2  id10328  I booked this hotel through Hotwire at the low...   \n",
       "3  id10329  Stayed here with husband and sons on the way t...   \n",
       "4  id10330  My girlfriends and I stayed here to celebrate ...   \n",
       "\n",
       "        Browser_Used Device_Used Is_Response  \n",
       "0               Edge      Mobile   not happy  \n",
       "1  Internet Explorer      Mobile   not happy  \n",
       "2            Mozilla      Tablet   not happy  \n",
       "3   InternetExplorer     Desktop       happy  \n",
       "4               Edge      Tablet   not happy  "
      ]
     },
     "execution_count": 4,
     "metadata": {},
     "output_type": "execute_result"
    }
   ],
   "source": [
    "train.head()"
   ]
  },
  {
   "cell_type": "code",
   "execution_count": 5,
   "metadata": {
    "collapsed": true
   },
   "outputs": [],
   "source": [
    "# function to clean data\n",
    "\n",
    "stops = set(stopwords.words(\"english\"))\n",
    "def cleanData(text, lowercase = False, remove_stops = False, stemming = False):\n",
    "    txt = str(text)\n",
    "    txt = re.sub(r'[^A-Za-z0-9\\s]',r'',txt)\n",
    "    txt = re.sub(r'\\n',r' ',txt)\n",
    "    \n",
    "    if lowercase:\n",
    "        txt = \" \".join([w.lower() for w in txt.split()])\n",
    "        \n",
    "    if remove_stops:\n",
    "        txt = \" \".join([w for w in txt.split() if w not in stops])\n",
    "    \n",
    "    if stemming:\n",
    "        st = PorterStemmer()\n",
    "        txt = \" \".join([st.stem(w) for w in txt.split()])\n",
    "\n",
    "    return txt"
   ]
  },
  {
   "cell_type": "code",
   "execution_count": 6,
   "metadata": {
    "collapsed": true
   },
   "outputs": [],
   "source": [
    "## join data\n",
    "test['Is_Response'] = np.nan\n",
    "alldata = pd.concat([train, test]).reset_index(drop=True)"
   ]
  },
  {
   "cell_type": "code",
   "execution_count": 7,
   "metadata": {
    "collapsed": true
   },
   "outputs": [],
   "source": [
    "# clean description\n",
    "alldata['Description'] = alldata['Description'].map(lambda x: cleanData(x, lowercase=True, remove_stops=False, stemming=True))"
   ]
  },
  {
   "cell_type": "code",
   "execution_count": 8,
   "metadata": {},
   "outputs": [
    {
     "data": {
      "text/html": [
       "<div>\n",
       "<style>\n",
       "    .dataframe thead tr:only-child th {\n",
       "        text-align: right;\n",
       "    }\n",
       "\n",
       "    .dataframe thead th {\n",
       "        text-align: left;\n",
       "    }\n",
       "\n",
       "    .dataframe tbody tr th {\n",
       "        vertical-align: top;\n",
       "    }\n",
       "</style>\n",
       "<table border=\"1\" class=\"dataframe\">\n",
       "  <thead>\n",
       "    <tr style=\"text-align: right;\">\n",
       "      <th></th>\n",
       "      <th>User_ID</th>\n",
       "      <th>Description</th>\n",
       "      <th>Browser_Used</th>\n",
       "      <th>Device_Used</th>\n",
       "      <th>Is_Response</th>\n",
       "    </tr>\n",
       "  </thead>\n",
       "  <tbody>\n",
       "    <tr>\n",
       "      <th>0</th>\n",
       "      <td>id10326</td>\n",
       "      <td>the room wa kind of clean but had a veri stron...</td>\n",
       "      <td>Edge</td>\n",
       "      <td>Mobile</td>\n",
       "      <td>not happy</td>\n",
       "    </tr>\n",
       "    <tr>\n",
       "      <th>1</th>\n",
       "      <td>id10327</td>\n",
       "      <td>i stay at the crown plaza april april the staf...</td>\n",
       "      <td>Internet Explorer</td>\n",
       "      <td>Mobile</td>\n",
       "      <td>not happy</td>\n",
       "    </tr>\n",
       "    <tr>\n",
       "      <th>2</th>\n",
       "      <td>id10328</td>\n",
       "      <td>i book thi hotel through hotwir at the lowest ...</td>\n",
       "      <td>Mozilla</td>\n",
       "      <td>Tablet</td>\n",
       "      <td>not happy</td>\n",
       "    </tr>\n",
       "    <tr>\n",
       "      <th>3</th>\n",
       "      <td>id10329</td>\n",
       "      <td>stay here with husband and son on the way to a...</td>\n",
       "      <td>InternetExplorer</td>\n",
       "      <td>Desktop</td>\n",
       "      <td>happy</td>\n",
       "    </tr>\n",
       "    <tr>\n",
       "      <th>4</th>\n",
       "      <td>id10330</td>\n",
       "      <td>my girlfriend and i stay here to celebr our th...</td>\n",
       "      <td>Edge</td>\n",
       "      <td>Tablet</td>\n",
       "      <td>not happy</td>\n",
       "    </tr>\n",
       "  </tbody>\n",
       "</table>\n",
       "</div>"
      ],
      "text/plain": [
       "   User_ID                                        Description  \\\n",
       "0  id10326  the room wa kind of clean but had a veri stron...   \n",
       "1  id10327  i stay at the crown plaza april april the staf...   \n",
       "2  id10328  i book thi hotel through hotwir at the lowest ...   \n",
       "3  id10329  stay here with husband and son on the way to a...   \n",
       "4  id10330  my girlfriend and i stay here to celebr our th...   \n",
       "\n",
       "        Browser_Used Device_Used Is_Response  \n",
       "0               Edge      Mobile   not happy  \n",
       "1  Internet Explorer      Mobile   not happy  \n",
       "2            Mozilla      Tablet   not happy  \n",
       "3   InternetExplorer     Desktop       happy  \n",
       "4               Edge      Tablet   not happy  "
      ]
     },
     "execution_count": 8,
     "metadata": {},
     "output_type": "execute_result"
    }
   ],
   "source": [
    "alldata.head()"
   ]
  },
  {
   "cell_type": "code",
   "execution_count": 9,
   "metadata": {},
   "outputs": [
    {
     "data": {
      "text/plain": [
       "'i stay at the crown plaza april april the staff wa friendli and attent the elev are tini about by the food in the restaur wa delici but price a littl on the high side of cours thi is washington dc there is no pool and littl for children to do my room on the fifth floor had two comfort bed and plenti of space for one person the tv is a littl small by today standard with a limit number of channel there wa a small bit of mold in the bathtub area that could have been remov with a littl bleach it appear the carpet were not vacum everi day i report a light bulb wa burn out it wa never replac ice machin are on the odd number floor but the one on my floor did not work i encount some staff in the elev one even and i mention the ice machin to them severel hour later a maid appear at my door with ice and two mint im not sure how they knew what room i wa in that wa a littl unnerv i would stay here again for busi but would not come here on vacat'"
      ]
     },
     "execution_count": 9,
     "metadata": {},
     "output_type": "execute_result"
    }
   ],
   "source": [
    "alldata['Description'][1]"
   ]
  },
  {
   "cell_type": "code",
   "execution_count": 10,
   "metadata": {},
   "outputs": [
    {
     "data": {
      "text/plain": [
       "happy        26521\n",
       "not happy    12411\n",
       "Name: Is_Response, dtype: int64"
      ]
     },
     "execution_count": 10,
     "metadata": {},
     "output_type": "execute_result"
    }
   ],
   "source": [
    "alldata.Is_Response.value_counts()"
   ]
  },
  {
   "cell_type": "code",
   "execution_count": 11,
   "metadata": {
    "collapsed": true
   },
   "outputs": [],
   "source": [
    "# initialise the functions - we'll create separate models for each type.\n",
    "countvec = CountVectorizer(analyzer='word', ngram_range = (1,1), min_df = 0, max_features=1600)\n",
    "tfidfvec = TfidfVectorizer(analyzer='word', ngram_range = (1,1), min_df = 0, max_features=1600)\n",
    "\n",
    "# create features\n",
    "bagofwords = countvec.fit_transform(alldata['Description'])\n",
    "tfidfdata = tfidfvec.fit_transform(alldata['Description'])"
   ]
  },
  {
   "cell_type": "code",
   "execution_count": 12,
   "metadata": {
    "collapsed": true
   },
   "outputs": [],
   "source": [
    "# label encode categorical features in data given\n",
    "cols = ['Browser_Used','Device_Used']\n",
    "\n",
    "for x in cols:\n",
    "    lbl = LabelEncoder()\n",
    "    alldata[x] = lbl.fit_transform(alldata[x])"
   ]
  },
  {
   "cell_type": "code",
   "execution_count": 13,
   "metadata": {
    "collapsed": true
   },
   "outputs": [],
   "source": [
    "# create dataframe for features\n",
    "bow_df = pd.DataFrame(bagofwords.todense())\n",
    "tfidf_df = pd.DataFrame(tfidfdata.todense())"
   ]
  },
  {
   "cell_type": "code",
   "execution_count": 14,
   "metadata": {
    "collapsed": true
   },
   "outputs": [],
   "source": [
    "# set column names\n",
    "bow_df.columns = ['col'+ str(x) for x in bow_df.columns]\n",
    "tfidf_df.columns = ['col' + str(x) for x in tfidf_df.columns]"
   ]
  },
  {
   "cell_type": "code",
   "execution_count": 15,
   "metadata": {
    "collapsed": true
   },
   "outputs": [],
   "source": [
    "# create separate data frame for bag of words and tf-idf\n",
    "\n",
    "bow_df_train = bow_df[:len(train)]\n",
    "bow_df_test = bow_df[len(train):]\n",
    "\n",
    "tfid_df_train = tfidf_df[:len(train)]\n",
    "tfid_df_test = tfidf_df[len(train):]"
   ]
  },
  {
   "cell_type": "code",
   "execution_count": 16,
   "metadata": {
    "collapsed": true
   },
   "outputs": [],
   "source": [
    "# split the merged data file into train and test respectively\n",
    "\n",
    "train_feats = alldata[~pd.isnull(alldata.Is_Response)]\n",
    "test_feats = alldata[pd.isnull(alldata.Is_Response)]"
   ]
  },
  {
   "cell_type": "code",
   "execution_count": 17,
   "metadata": {},
   "outputs": [
    {
     "name": "stderr",
     "output_type": "stream",
     "text": [
      "/home/itachi/anaconda3/envs/tensorflow/lib/python3.5/site-packages/ipykernel_launcher.py:1: SettingWithCopyWarning: \n",
      "A value is trying to be set on a copy of a slice from a DataFrame.\n",
      "Try using .loc[row_indexer,col_indexer] = value instead\n",
      "\n",
      "See the caveats in the documentation: http://pandas.pydata.org/pandas-docs/stable/indexing.html#indexing-view-versus-copy\n",
      "  \"\"\"Entry point for launching an IPython kernel.\n"
     ]
    }
   ],
   "source": [
    "train_feats['Is_Response'] = [1 if x == 'happy' else 0 for x in train_feats['Is_Response']]"
   ]
  },
  {
   "cell_type": "code",
   "execution_count": null,
   "metadata": {
    "collapsed": true
   },
   "outputs": [],
   "source": [
    "# merge count (bag of word) features into train\n",
    "train_feats1 = pd.concat([train_feats[cols], bow_df_train], axis = 1)\n",
    "test_feats1 = pd.concat([test_feats[cols], bow_df_test], axis=1)\n",
    "test_feats1.reset_index(drop=True, inplace=True)"
   ]
  },
  {
   "cell_type": "code",
   "execution_count": null,
   "metadata": {
    "collapsed": true
   },
   "outputs": [],
   "source": [
    "# merge into a new data frame with tf-idf features\n",
    "train_feats2 = pd.concat([train_feats[cols], tfid_df_train], axis=1)\n",
    "test_feats2 = pd.concat([test_feats[cols], tfid_df_test], axis=1)\n",
    "target = train_feats['Is_Response']"
   ]
  },
  {
   "cell_type": "raw",
   "metadata": {
    "scrolled": true
   },
   "source": [
    "'''\n",
    "import xgboost as xgb\n",
    "\n",
    "d_train = xgb.DMatrix(train_feats1, label = target)\n",
    "\n",
    "param = {'max_depth':9, \n",
    "         'eta':1, \n",
    "         'silent':1, \n",
    "         'learning_rate':0.05,\n",
    "         'n_estimators':500,\n",
    "         'min_child_weight':6,\n",
    "         'gamma':0.1,\n",
    "         'reg_alpha':0.01,\n",
    "         'subsample':0.8,\n",
    "         'colsample_bytree':0.8,\n",
    "         'seed':27,\n",
    "         'objective':'binary:logistic' }\n",
    "num_round = 100\n",
    "xgb.cv(param, d_train, num_round)\n",
    "'''"
   ]
  },
  {
   "cell_type": "raw",
   "metadata": {},
   "source": [
    "Best Parameters for models\n",
    "\n",
    "model1  -> Navie bayes ngram = (1,2) 1\n",
    "model2  ->  \"      \"     \"       \"   2\n",
    "model3  -> {'task': 'train',           = (1,1)  1\n",
    "            'boosting_type': 'gbdt',   = x > 0.48\n",
    "            'objective': 'binary', \n",
    "            'metric': 'binary_error', \n",
    "            'learning_rate': 0.05, \n",
    "            'max_depth': 8, \n",
    "            'num_leaves': 60, \n",
    "            'feature_fraction': 0.8, \n",
    "            'bagging_fraction': 0.8, \n",
    "            'bagging_freq': 5}\n",
    "model4  -> \" \" \"      \" \" \"              (1,1)  2\n",
    "model5  -> (learning_rate =0.07,         (1,1)  1\n",
    "            n_estimators=600,\n",
    "            max_depth=9,\n",
    "            min_child_weight=6,\n",
    "            gamma=0.1,\n",
    "            reg_alpha=0.01,\n",
    "            subsample=0.8,\n",
    "            colsample_bytree=0.8,\n",
    "            objective= 'binary:logistic',\n",
    "            scale_pos_weight=1,\n",
    "            seed=27)\n",
    "model6  -> \" \" \"      \" \" \"              (1,1)  2\n",
    "model7  -> LogisticRegression(penalty='l2', dual=True, tol=0.0001,\n",
    "           C=2.8, fit_intercept=True, intercept_scaling=1.0, \n",
    "           class_weight=None, random_state=None)\n",
    "model8  ->  \" \" \"                                   \" \" \"\n",
    "model9  -> Multilayer perceptron (90,60,40,20)  1\n",
    "model10 -> \" \" \"                   \" \" \"        2"
   ]
  },
  {
   "cell_type": "code",
   "execution_count": 21,
   "metadata": {},
   "outputs": [
    {
     "name": "stdout",
     "output_type": "stream",
     "text": [
      "[ 0.79417052  0.78769586  0.78949396  0.78975083  0.79668636]\n"
     ]
    }
   ],
   "source": [
    "## Naive Bayes 1\n",
    "#[ 0.79185927  0.77819163  0.79026458  0.78564089  0.78769586] > (1,2)\n",
    "model1 = GaussianNB()\n",
    "print(cross_val_score(model1, train_feats1, target, cv=5, scoring=make_scorer(accuracy_score)))\n",
    "\n",
    "model1.fit(train_feats1, target)\n",
    "\n",
    "pred1 = model1.predict(test_feats1)"
   ]
  },
  {
   "cell_type": "code",
   "execution_count": 22,
   "metadata": {},
   "outputs": [
    {
     "name": "stdout",
     "output_type": "stream",
     "text": [
      "[ 0.81779661  0.81697919  0.8061906   0.82031852  0.81453892]\n"
     ]
    }
   ],
   "source": [
    "## Naive Bayes 2 - tfidf is giving higher CV score\n",
    "#[ 0.82550077  0.82712561  0.83162086  0.83367583  0.82430003] > (1,2)\n",
    "model2 = GaussianNB()\n",
    "print(cross_val_score(model2, train_feats2, target, cv=5, scoring=make_scorer(accuracy_score)))\n",
    "\n",
    "model2.fit(train_feats2, target)\n",
    "\n",
    "pred2 = model2.predict(test_feats2)"
   ]
  },
  {
   "cell_type": "code",
   "execution_count": 24,
   "metadata": {
    "scrolled": true
   },
   "outputs": [
    {
     "name": "stdout",
     "output_type": "stream",
     "text": [
      "[20]\tcv_agg's binary_error: 0.178259 + 0.00336278\n",
      "[40]\tcv_agg's binary_error: 0.163773 + 0.0047215\n",
      "[60]\tcv_agg's binary_error: 0.153164 + 0.00487745\n",
      "[80]\tcv_agg's binary_error: 0.144688 + 0.0045537\n",
      "[100]\tcv_agg's binary_error: 0.138318 + 0.00429984\n",
      "[120]\tcv_agg's binary_error: 0.133771 + 0.00504577\n",
      "[140]\tcv_agg's binary_error: 0.130715 + 0.00450431\n",
      "[160]\tcv_agg's binary_error: 0.127633 + 0.00457276\n",
      "[180]\tcv_agg's binary_error: 0.125372 + 0.00438364\n",
      "[200]\tcv_agg's binary_error: 0.122701 + 0.00448379\n",
      "[220]\tcv_agg's binary_error: 0.121134 + 0.0047124\n",
      "[240]\tcv_agg's binary_error: 0.118899 + 0.00432235\n",
      "[260]\tcv_agg's binary_error: 0.117127 + 0.00488055\n",
      "[280]\tcv_agg's binary_error: 0.115637 + 0.00421206\n",
      "[300]\tcv_agg's binary_error: 0.114327 + 0.00440248\n",
      "[320]\tcv_agg's binary_error: 0.113762 + 0.00390037\n",
      "[340]\tcv_agg's binary_error: 0.112709 + 0.00414435\n",
      "[360]\tcv_agg's binary_error: 0.112504 + 0.003363\n",
      "[380]\tcv_agg's binary_error: 0.111707 + 0.00330244\n",
      "[400]\tcv_agg's binary_error: 0.111579 + 0.00303396\n",
      "[420]\tcv_agg's binary_error: 0.110808 + 0.00315053\n",
      "[440]\tcv_agg's binary_error: 0.11068 + 0.00357403\n",
      "[460]\tcv_agg's binary_error: 0.110346 + 0.00415733\n",
      "[480]\tcv_agg's binary_error: 0.109961 + 0.00369268\n",
      "[500]\tcv_agg's binary_error: 0.109935 + 0.003592\n",
      "[520]\tcv_agg's binary_error: 0.109216 + 0.00315473\n",
      "[540]\tcv_agg's binary_error: 0.109139 + 0.00356221\n",
      "[560]\tcv_agg's binary_error: 0.108728 + 0.00316644\n",
      "[580]\tcv_agg's binary_error: 0.108651 + 0.00346979\n",
      "[600]\tcv_agg's binary_error: 0.10824 + 0.00329529\n",
      "[620]\tcv_agg's binary_error: 0.1077 + 0.00313777\n",
      "[640]\tcv_agg's binary_error: 0.107546 + 0.00334687\n",
      "[660]\tcv_agg's binary_error: 0.107623 + 0.00301118\n",
      "[680]\tcv_agg's binary_error: 0.107341 + 0.00272594\n",
      "[700]\tcv_agg's binary_error: 0.106904 + 0.00256711\n",
      "[720]\tcv_agg's binary_error: 0.106904 + 0.00254328\n",
      "[740]\tcv_agg's binary_error: 0.106699 + 0.0026917\n",
      "[760]\tcv_agg's binary_error: 0.106416 + 0.00250739\n",
      "[780]\tcv_agg's binary_error: 0.106057 + 0.00232753\n",
      "[800]\tcv_agg's binary_error: 0.105774 + 0.00250598\n",
      "[820]\tcv_agg's binary_error: 0.106211 + 0.00276497\n",
      "[840]\tcv_agg's binary_error: 0.106185 + 0.00308221\n",
      "[860]\tcv_agg's binary_error: 0.106262 + 0.00284281\n",
      "[880]\tcv_agg's binary_error: 0.106031 + 0.00264169\n",
      "[900]\tcv_agg's binary_error: 0.105903 + 0.0024433\n",
      "[920]\tcv_agg's binary_error: 0.105954 + 0.00287485\n",
      "[940]\tcv_agg's binary_error: 0.106134 + 0.00340252\n",
      "[960]\tcv_agg's binary_error: 0.105979 + 0.00326012\n",
      "[980]\tcv_agg's binary_error: 0.105928 + 0.00310465\n",
      "[1000]\tcv_agg's binary_error: 0.106057 + 0.00327977\n",
      "[1020]\tcv_agg's binary_error: 0.105928 + 0.00353361\n",
      "[1040]\tcv_agg's binary_error: 0.106031 + 0.0036364\n",
      "[1060]\tcv_agg's binary_error: 0.10598 + 0.00345989\n",
      "[1080]\tcv_agg's binary_error: 0.105825 + 0.00351077\n",
      "[1100]\tcv_agg's binary_error: 0.1058 + 0.00358979\n",
      "[1120]\tcv_agg's binary_error: 0.105902 + 0.00329151\n",
      "[1140]\tcv_agg's binary_error: 0.105825 + 0.00286284\n",
      "[1160]\tcv_agg's binary_error: 0.105723 + 0.00297348\n",
      "[1180]\tcv_agg's binary_error: 0.105363 + 0.00296241\n",
      "[1200]\tcv_agg's binary_error: 0.104978 + 0.00335228\n",
      "[1220]\tcv_agg's binary_error: 0.105158 + 0.00337748\n",
      "[1240]\tcv_agg's binary_error: 0.105183 + 0.00280846\n",
      "[1260]\tcv_agg's binary_error: 0.105389 + 0.00293964\n",
      "[1280]\tcv_agg's binary_error: 0.10526 + 0.00320007\n",
      "[1300]\tcv_agg's binary_error: 0.105646 + 0.00324758\n",
      "[1320]\tcv_agg's binary_error: 0.105543 + 0.00287426\n",
      "[1340]\tcv_agg's binary_error: 0.106031 + 0.00305986\n",
      "[1360]\tcv_agg's binary_error: 0.105697 + 0.00302389\n",
      "[1380]\tcv_agg's binary_error: 0.105697 + 0.0028517\n",
      "[1400]\tcv_agg's binary_error: 0.105954 + 0.0031954\n",
      "[1420]\tcv_agg's binary_error: 0.105902 + 0.00305387\n",
      "[1440]\tcv_agg's binary_error: 0.105851 + 0.00318287\n",
      "[1460]\tcv_agg's binary_error: 0.105877 + 0.00328055\n",
      "[1480]\tcv_agg's binary_error: 0.105954 + 0.00296203\n",
      "[1500]\tcv_agg's binary_error: 0.106262 + 0.00283351\n",
      "[1520]\tcv_agg's binary_error: 0.10598 + 0.00245205\n",
      "[1540]\tcv_agg's binary_error: 0.106082 + 0.00275504\n",
      "[1560]\tcv_agg's binary_error: 0.10544 + 0.00278169\n",
      "[1580]\tcv_agg's binary_error: 0.105466 + 0.00272296\n",
      "[1600]\tcv_agg's binary_error: 0.105594 + 0.00245163\n",
      "[1620]\tcv_agg's binary_error: 0.105337 + 0.00283728\n",
      "[1640]\tcv_agg's binary_error: 0.1058 + 0.00279563\n",
      "[1660]\tcv_agg's binary_error: 0.105569 + 0.002729\n",
      "[1680]\tcv_agg's binary_error: 0.105774 + 0.00252926\n",
      "[1700]\tcv_agg's binary_error: 0.105902 + 0.00269731\n",
      "[1720]\tcv_agg's binary_error: 0.10526 + 0.00290287\n",
      "[1740]\tcv_agg's binary_error: 0.105569 + 0.00280295\n",
      "[1760]\tcv_agg's binary_error: 0.105106 + 0.0021499\n",
      "[1780]\tcv_agg's binary_error: 0.105723 + 0.00262518\n",
      "[1800]\tcv_agg's binary_error: 0.105363 + 0.00272486\n",
      "[1820]\tcv_agg's binary_error: 0.105363 + 0.00258159\n",
      "[1840]\tcv_agg's binary_error: 0.105235 + 0.00243862\n",
      "[1860]\tcv_agg's binary_error: 0.105389 + 0.00233076\n",
      "[1880]\tcv_agg's binary_error: 0.105414 + 0.00249464\n",
      "[1900]\tcv_agg's binary_error: 0.10526 + 0.00245275\n",
      "[1920]\tcv_agg's binary_error: 0.105543 + 0.00241254\n",
      "[1940]\tcv_agg's binary_error: 0.105466 + 0.00232085\n",
      "[1960]\tcv_agg's binary_error: 0.105312 + 0.00211024\n",
      "[1980]\tcv_agg's binary_error: 0.105492 + 0.0021367\n",
      "[2000]\tcv_agg's binary_error: 0.10526 + 0.00177217\n",
      "[2020]\tcv_agg's binary_error: 0.105081 + 0.00208159\n",
      "[2040]\tcv_agg's binary_error: 0.104926 + 0.00201625\n",
      "[2060]\tcv_agg's binary_error: 0.104849 + 0.00219363\n",
      "[2080]\tcv_agg's binary_error: 0.10467 + 0.00205056\n",
      "[2100]\tcv_agg's binary_error: 0.104901 + 0.00194146\n",
      "[2120]\tcv_agg's binary_error: 0.104849 + 0.00219461\n",
      "[2140]\tcv_agg's binary_error: 0.104926 + 0.002184\n",
      "[2160]\tcv_agg's binary_error: 0.105132 + 0.0023688\n",
      "[2180]\tcv_agg's binary_error: 0.104824 + 0.00224699\n",
      "[2200]\tcv_agg's binary_error: 0.105106 + 0.00235276\n",
      "[2220]\tcv_agg's binary_error: 0.105235 + 0.00234041\n",
      "[2240]\tcv_agg's binary_error: 0.105029 + 0.00222578\n",
      "[2260]\tcv_agg's binary_error: 0.104798 + 0.00247008\n",
      "[2280]\tcv_agg's binary_error: 0.105029 + 0.00222409\n",
      "[2300]\tcv_agg's binary_error: 0.104772 + 0.00214426\n",
      "[2320]\tcv_agg's binary_error: 0.104875 + 0.00198245\n",
      "[2340]\tcv_agg's binary_error: 0.104695 + 0.00187945\n",
      "[2360]\tcv_agg's binary_error: 0.104926 + 0.00186719\n",
      "[2380]\tcv_agg's binary_error: 0.105003 + 0.00205248\n",
      "[2400]\tcv_agg's binary_error: 0.104798 + 0.00183269\n",
      "[2420]\tcv_agg's binary_error: 0.104952 + 0.00194619\n",
      "[2440]\tcv_agg's binary_error: 0.105389 + 0.00199427\n",
      "[2460]\tcv_agg's binary_error: 0.10526 + 0.00187893\n",
      "[2480]\tcv_agg's binary_error: 0.10526 + 0.00173699\n",
      "[2500]\tcv_agg's binary_error: 0.10526 + 0.00186837\n",
      "[2520]\tcv_agg's binary_error: 0.104875 + 0.00247886\n",
      "[2540]\tcv_agg's binary_error: 0.105466 + 0.00260864\n",
      "[2560]\tcv_agg's binary_error: 0.105158 + 0.00290383\n",
      "[2580]\tcv_agg's binary_error: 0.105158 + 0.00281081\n",
      "[2600]\tcv_agg's binary_error: 0.104978 + 0.00275336\n",
      "[2620]\tcv_agg's binary_error: 0.104798 + 0.00273174\n",
      "[2640]\tcv_agg's binary_error: 0.104926 + 0.00303341\n",
      "[2660]\tcv_agg's binary_error: 0.104849 + 0.0028472\n",
      "[2680]\tcv_agg's binary_error: 0.105029 + 0.00290003\n",
      "[2700]\tcv_agg's binary_error: 0.104978 + 0.00301795\n",
      "[2720]\tcv_agg's binary_error: 0.105132 + 0.00286242\n",
      "[2740]\tcv_agg's binary_error: 0.104824 + 0.0027822\n",
      "[2760]\tcv_agg's binary_error: 0.104567 + 0.00298218\n",
      "[2780]\tcv_agg's binary_error: 0.104593 + 0.00296358\n",
      "[2800]\tcv_agg's binary_error: 0.104618 + 0.00302509\n",
      "[2820]\tcv_agg's binary_error: 0.104978 + 0.00306043\n",
      "[2840]\tcv_agg's binary_error: 0.104747 + 0.00281696\n",
      "[2860]\tcv_agg's binary_error: 0.104901 + 0.00277021\n",
      "[2880]\tcv_agg's binary_error: 0.104747 + 0.00269625\n",
      "[2900]\tcv_agg's binary_error: 0.104387 + 0.0025685\n",
      "[2920]\tcv_agg's binary_error: 0.104387 + 0.0025195\n",
      "[2940]\tcv_agg's binary_error: 0.104644 + 0.00268661\n",
      "[2960]\tcv_agg's binary_error: 0.104464 + 0.00245021\n",
      "[2980]\tcv_agg's binary_error: 0.104593 + 0.00257871\n",
      "[3000]\tcv_agg's binary_error: 0.104336 + 0.00267665\n",
      "[3020]\tcv_agg's binary_error: 0.104233 + 0.00254223\n",
      "[3040]\tcv_agg's binary_error: 0.104438 + 0.00201803\n",
      "[3060]\tcv_agg's binary_error: 0.104027 + 0.00222889\n",
      "[3080]\tcv_agg's binary_error: 0.104182 + 0.00199206\n",
      "[3100]\tcv_agg's binary_error: 0.104079 + 0.00237222\n",
      "[3120]\tcv_agg's binary_error: 0.104413 + 0.00253162\n",
      "[3140]\tcv_agg's binary_error: 0.10449 + 0.00264669\n",
      "[3160]\tcv_agg's binary_error: 0.10449 + 0.00281722\n",
      "[3180]\tcv_agg's binary_error: 0.10431 + 0.0024363\n",
      "[3200]\tcv_agg's binary_error: 0.104284 + 0.00250487\n"
     ]
    },
    {
     "name": "stdout",
     "output_type": "stream",
     "text": [
      "[3220]\tcv_agg's binary_error: 0.104541 + 0.00284227\n",
      "[3240]\tcv_agg's binary_error: 0.104541 + 0.00265901\n",
      "[3260]\tcv_agg's binary_error: 0.104336 + 0.00265941\n",
      "[3280]\tcv_agg's binary_error: 0.104259 + 0.00220302\n",
      "[3300]\tcv_agg's binary_error: 0.10431 + 0.00215864\n",
      "[3320]\tcv_agg's binary_error: 0.104079 + 0.00236877\n",
      "[3340]\tcv_agg's binary_error: 0.104156 + 0.00262008\n",
      "[3360]\tcv_agg's binary_error: 0.10431 + 0.00210323\n",
      "[3380]\tcv_agg's binary_error: 0.104336 + 0.00213718\n",
      "[3400]\tcv_agg's binary_error: 0.10449 + 0.00263374\n",
      "[3420]\tcv_agg's binary_error: 0.104464 + 0.00237799\n",
      "[3440]\tcv_agg's binary_error: 0.104387 + 0.00246398\n",
      "[3460]\tcv_agg's binary_error: 0.10413 + 0.00250666\n",
      "[3480]\tcv_agg's binary_error: 0.104387 + 0.00268169\n",
      "[3500]\tcv_agg's binary_error: 0.10449 + 0.00247297\n",
      "[3520]\tcv_agg's binary_error: 0.10431 + 0.00213703\n",
      "[3540]\tcv_agg's binary_error: 0.104438 + 0.00240004\n",
      "[3560]\tcv_agg's binary_error: 0.104284 + 0.00215248\n",
      "[3580]\tcv_agg's binary_error: 0.104027 + 0.00234239\n",
      "[3600]\tcv_agg's binary_error: 0.104259 + 0.00230629\n",
      "[3620]\tcv_agg's binary_error: 0.10413 + 0.00214219\n",
      "[3640]\tcv_agg's binary_error: 0.104156 + 0.00228657\n",
      "[3660]\tcv_agg's binary_error: 0.104182 + 0.00203201\n",
      "[3680]\tcv_agg's binary_error: 0.104053 + 0.00227816\n",
      "[3700]\tcv_agg's binary_error: 0.104593 + 0.00217726\n",
      "[3720]\tcv_agg's binary_error: 0.104541 + 0.00213457\n",
      "[3740]\tcv_agg's binary_error: 0.104336 + 0.00161445\n",
      "[3760]\tcv_agg's binary_error: 0.104361 + 0.00171902\n",
      "[3780]\tcv_agg's binary_error: 0.104387 + 0.00180994\n",
      "[3800]\tcv_agg's binary_error: 0.104284 + 0.00162034\n",
      "[3820]\tcv_agg's binary_error: 0.104798 + 0.00204906\n",
      "[3840]\tcv_agg's binary_error: 0.104824 + 0.00181982\n",
      "[3860]\tcv_agg's binary_error: 0.104721 + 0.00203192\n",
      "[3880]\tcv_agg's binary_error: 0.104849 + 0.00217834\n",
      "[3900]\tcv_agg's binary_error: 0.105106 + 0.00234665\n",
      "[3920]\tcv_agg's binary_error: 0.105081 + 0.00251275\n",
      "[3940]\tcv_agg's binary_error: 0.105081 + 0.0025864\n",
      "[3960]\tcv_agg's binary_error: 0.105055 + 0.00231473\n",
      "[3980]\tcv_agg's binary_error: 0.104952 + 0.00213976\n",
      "[4000]\tcv_agg's binary_error: 0.10467 + 0.00254998\n",
      "[4020]\tcv_agg's binary_error: 0.104849 + 0.00249416\n",
      "[4040]\tcv_agg's binary_error: 0.104952 + 0.00230916\n",
      "[4060]\tcv_agg's binary_error: 0.104798 + 0.0022027\n",
      "[4080]\tcv_agg's binary_error: 0.104849 + 0.002242\n",
      "[4100]\tcv_agg's binary_error: 0.104644 + 0.00189715\n",
      "[4120]\tcv_agg's binary_error: 0.104695 + 0.00186712\n",
      "[4140]\tcv_agg's binary_error: 0.104824 + 0.00215753\n",
      "[4160]\tcv_agg's binary_error: 0.104849 + 0.0024208\n",
      "[4180]\tcv_agg's binary_error: 0.104644 + 0.00238278\n",
      "[4200]\tcv_agg's binary_error: 0.10467 + 0.00222622\n",
      "[4220]\tcv_agg's binary_error: 0.104618 + 0.00222635\n",
      "[4240]\tcv_agg's binary_error: 0.104464 + 0.00224619\n",
      "[4260]\tcv_agg's binary_error: 0.104593 + 0.00231471\n",
      "[4280]\tcv_agg's binary_error: 0.10467 + 0.00214811\n",
      "[4300]\tcv_agg's binary_error: 0.104875 + 0.0024388\n",
      "[4320]\tcv_agg's binary_error: 0.104849 + 0.00249973\n",
      "[4340]\tcv_agg's binary_error: 0.104721 + 0.00212911\n",
      "[4360]\tcv_agg's binary_error: 0.104798 + 0.00216687\n",
      "[4380]\tcv_agg's binary_error: 0.104721 + 0.00218116\n",
      "[4400]\tcv_agg's binary_error: 0.104747 + 0.00219993\n",
      "[4420]\tcv_agg's binary_error: 0.104926 + 0.00219487\n",
      "[4440]\tcv_agg's binary_error: 0.105106 + 0.00222638\n",
      "[4460]\tcv_agg's binary_error: 0.104952 + 0.00229462\n",
      "[4480]\tcv_agg's binary_error: 0.105132 + 0.00212418\n",
      "[4500]\tcv_agg's binary_error: 0.105004 + 0.00222729\n",
      "[4520]\tcv_agg's binary_error: 0.104952 + 0.00212163\n",
      "[4540]\tcv_agg's binary_error: 0.105132 + 0.00213998\n",
      "[4560]\tcv_agg's binary_error: 0.105004 + 0.00225296\n",
      "[4580]\tcv_agg's binary_error: 0.105029 + 0.00206851\n",
      "[4600]\tcv_agg's binary_error: 0.105004 + 0.0021285\n",
      "[4620]\tcv_agg's binary_error: 0.105132 + 0.00221923\n",
      "[4640]\tcv_agg's binary_error: 0.105183 + 0.00210185\n",
      "[4660]\tcv_agg's binary_error: 0.105183 + 0.00202766\n",
      "[4680]\tcv_agg's binary_error: 0.105158 + 0.00213257\n",
      "[4700]\tcv_agg's binary_error: 0.105337 + 0.00237426\n",
      "[4720]\tcv_agg's binary_error: 0.105235 + 0.00254809\n",
      "[4740]\tcv_agg's binary_error: 0.105312 + 0.00232226\n",
      "[4760]\tcv_agg's binary_error: 0.105235 + 0.00255888\n",
      "[4780]\tcv_agg's binary_error: 0.10526 + 0.00249789\n",
      "[4800]\tcv_agg's binary_error: 0.105132 + 0.00251547\n",
      "[4820]\tcv_agg's binary_error: 0.105132 + 0.00250712\n",
      "[4840]\tcv_agg's binary_error: 0.104721 + 0.00271475\n",
      "[4860]\tcv_agg's binary_error: 0.105081 + 0.00239137\n",
      "[4880]\tcv_agg's binary_error: 0.104926 + 0.00221964\n",
      "[4900]\tcv_agg's binary_error: 0.104798 + 0.00218821\n",
      "[4920]\tcv_agg's binary_error: 0.104593 + 0.00213364\n",
      "[4940]\tcv_agg's binary_error: 0.104618 + 0.00208658\n",
      "[4960]\tcv_agg's binary_error: 0.104695 + 0.00221137\n",
      "[4980]\tcv_agg's binary_error: 0.104541 + 0.00186217\n",
      "[5000]\tcv_agg's binary_error: 0.104516 + 0.0018628\n"
     ]
    }
   ],
   "source": [
    "# set the data in format lgb accepts\n",
    "d_train1 = lgb.Dataset(train_feats1, label = target)\n",
    "\n",
    "params1 = {'task': 'train', 'boosting_type': 'gbdt', 'objective': 'binary', 'metric': 'binary_error', \n",
    "           'learning_rate': 0.05, 'max_depth': 8, 'num_leaves': 60, 'feature_fraction': 0.8, \n",
    "           'bagging_fraction': 0.8, 'bagging_freq': 5}\n",
    "\n",
    "lgb_cv1 = lgb.cv(params1, d_train1, num_boost_round=5000, nfold= 5, shuffle=True, stratified=True, verbose_eval=200)"
   ]
  },
  {
   "cell_type": "code",
   "execution_count": 25,
   "metadata": {
    "collapsed": true
   },
   "outputs": [],
   "source": [
    "## get nround value which hd lowest error\n",
    "nround = lgb_cv1['binary_error-mean'].index(np.min(lgb_cv1['binary_error-mean']))\n",
    "\n",
    "## train the model\n",
    "model3 = lgb.train(params1, d_train1, num_boost_round=nround)\n",
    "\n",
    "## make predictions\n",
    "pred3 = model3.predict(test_feats1)"
   ]
  },
  {
   "cell_type": "code",
   "execution_count": 26,
   "metadata": {
    "scrolled": true
   },
   "outputs": [
    {
     "name": "stdout",
     "output_type": "stream",
     "text": [
      "[20]\tcv_agg's binary_error: 0.176667 + 0.00363473\n",
      "[40]\tcv_agg's binary_error: 0.161487 + 0.00316434\n",
      "[60]\tcv_agg's binary_error: 0.153139 + 0.00359468\n",
      "[80]\tcv_agg's binary_error: 0.145253 + 0.00376399\n",
      "[100]\tcv_agg's binary_error: 0.138832 + 0.00360289\n",
      "[120]\tcv_agg's binary_error: 0.13467 + 0.0043109\n",
      "[140]\tcv_agg's binary_error: 0.131306 + 0.00433657\n",
      "[160]\tcv_agg's binary_error: 0.128377 + 0.00433327\n",
      "[180]\tcv_agg's binary_error: 0.126143 + 0.00360031\n",
      "[200]\tcv_agg's binary_error: 0.123934 + 0.00299198\n",
      "[220]\tcv_agg's binary_error: 0.12247 + 0.00297129\n",
      "[240]\tcv_agg's binary_error: 0.121571 + 0.00338671\n",
      "[260]\tcv_agg's binary_error: 0.120004 + 0.00341535\n",
      "[280]\tcv_agg's binary_error: 0.119233 + 0.00352448\n",
      "[300]\tcv_agg's binary_error: 0.118411 + 0.00346366\n",
      "[320]\tcv_agg's binary_error: 0.117692 + 0.00322209\n",
      "[340]\tcv_agg's binary_error: 0.117153 + 0.00324736\n",
      "[360]\tcv_agg's binary_error: 0.116382 + 0.00346871\n",
      "[380]\tcv_agg's binary_error: 0.115483 + 0.00299502\n",
      "[400]\tcv_agg's binary_error: 0.115175 + 0.00346079\n",
      "[420]\tcv_agg's binary_error: 0.114482 + 0.00312239\n",
      "[440]\tcv_agg's binary_error: 0.11443 + 0.00286386\n",
      "[460]\tcv_agg's binary_error: 0.113583 + 0.00262456\n",
      "[480]\tcv_agg's binary_error: 0.113454 + 0.00221651\n",
      "[500]\tcv_agg's binary_error: 0.113069 + 0.00238143\n",
      "[520]\tcv_agg's binary_error: 0.113043 + 0.00233492\n",
      "[540]\tcv_agg's binary_error: 0.112427 + 0.00216005\n",
      "[560]\tcv_agg's binary_error: 0.112478 + 0.0022174\n",
      "[580]\tcv_agg's binary_error: 0.112658 + 0.00218224\n",
      "[600]\tcv_agg's binary_error: 0.112581 + 0.00212518\n",
      "[620]\tcv_agg's binary_error: 0.112093 + 0.00215967\n",
      "[640]\tcv_agg's binary_error: 0.112273 + 0.00278155\n",
      "[660]\tcv_agg's binary_error: 0.11181 + 0.00267855\n",
      "[680]\tcv_agg's binary_error: 0.111656 + 0.00236265\n",
      "[700]\tcv_agg's binary_error: 0.111579 + 0.00273258\n",
      "[720]\tcv_agg's binary_error: 0.111425 + 0.00249702\n",
      "[740]\tcv_agg's binary_error: 0.111297 + 0.0019402\n",
      "[760]\tcv_agg's binary_error: 0.111502 + 0.00239539\n",
      "[780]\tcv_agg's binary_error: 0.111091 + 0.00211651\n",
      "[800]\tcv_agg's binary_error: 0.110809 + 0.00272497\n",
      "[820]\tcv_agg's binary_error: 0.11068 + 0.00292031\n",
      "[840]\tcv_agg's binary_error: 0.110988 + 0.00300772\n",
      "[860]\tcv_agg's binary_error: 0.110911 + 0.00304266\n",
      "[880]\tcv_agg's binary_error: 0.110552 + 0.00294132\n",
      "[900]\tcv_agg's binary_error: 0.110603 + 0.00287627\n",
      "[920]\tcv_agg's binary_error: 0.110166 + 0.00329239\n",
      "[940]\tcv_agg's binary_error: 0.10991 + 0.00352583\n",
      "[960]\tcv_agg's binary_error: 0.109832 + 0.00344546\n",
      "[980]\tcv_agg's binary_error: 0.10955 + 0.00348671\n",
      "[1000]\tcv_agg's binary_error: 0.109267 + 0.00342243\n",
      "[1020]\tcv_agg's binary_error: 0.109113 + 0.00367813\n",
      "[1040]\tcv_agg's binary_error: 0.109062 + 0.0036059\n",
      "[1060]\tcv_agg's binary_error: 0.108933 + 0.00342144\n",
      "[1080]\tcv_agg's binary_error: 0.109216 + 0.00361472\n",
      "[1100]\tcv_agg's binary_error: 0.109165 + 0.00368432\n",
      "[1120]\tcv_agg's binary_error: 0.109293 + 0.00308867\n",
      "[1140]\tcv_agg's binary_error: 0.109421 + 0.00347005\n",
      "[1160]\tcv_agg's binary_error: 0.109216 + 0.00351058\n",
      "[1180]\tcv_agg's binary_error: 0.109832 + 0.00335552\n",
      "[1200]\tcv_agg's binary_error: 0.109678 + 0.00356877\n",
      "[1220]\tcv_agg's binary_error: 0.109627 + 0.00338986\n",
      "[1240]\tcv_agg's binary_error: 0.109755 + 0.00344872\n",
      "[1260]\tcv_agg's binary_error: 0.109576 + 0.00308368\n",
      "[1280]\tcv_agg's binary_error: 0.109447 + 0.00295585\n",
      "[1300]\tcv_agg's binary_error: 0.109139 + 0.00311717\n",
      "[1320]\tcv_agg's binary_error: 0.109036 + 0.00319313\n",
      "[1340]\tcv_agg's binary_error: 0.108445 + 0.00339276\n",
      "[1360]\tcv_agg's binary_error: 0.109062 + 0.00358142\n",
      "[1380]\tcv_agg's binary_error: 0.108856 + 0.00377044\n",
      "[1400]\tcv_agg's binary_error: 0.108291 + 0.00351999\n",
      "[1420]\tcv_agg's binary_error: 0.108291 + 0.00363163\n",
      "[1440]\tcv_agg's binary_error: 0.108343 + 0.00331917\n",
      "[1460]\tcv_agg's binary_error: 0.10842 + 0.00349922\n",
      "[1480]\tcv_agg's binary_error: 0.108266 + 0.00361535\n",
      "[1500]\tcv_agg's binary_error: 0.108548 + 0.00340814\n",
      "[1520]\tcv_agg's binary_error: 0.108266 + 0.00330584\n",
      "[1540]\tcv_agg's binary_error: 0.108445 + 0.0029591\n",
      "[1560]\tcv_agg's binary_error: 0.108651 + 0.00271432\n",
      "[1580]\tcv_agg's binary_error: 0.108934 + 0.00318114\n",
      "[1600]\tcv_agg's binary_error: 0.108677 + 0.00293253\n",
      "[1620]\tcv_agg's binary_error: 0.108779 + 0.00327746\n",
      "[1640]\tcv_agg's binary_error: 0.108574 + 0.00288532\n",
      "[1660]\tcv_agg's binary_error: 0.108394 + 0.00352086\n",
      "[1680]\tcv_agg's binary_error: 0.108805 + 0.00339841\n",
      "[1700]\tcv_agg's binary_error: 0.108934 + 0.00353324\n",
      "[1720]\tcv_agg's binary_error: 0.108779 + 0.00317349\n",
      "[1740]\tcv_agg's binary_error: 0.108677 + 0.00374373\n",
      "[1760]\tcv_agg's binary_error: 0.108368 + 0.00323919\n",
      "[1780]\tcv_agg's binary_error: 0.108702 + 0.00347705\n",
      "[1800]\tcv_agg's binary_error: 0.109036 + 0.00377543\n",
      "[1820]\tcv_agg's binary_error: 0.108985 + 0.00355359\n",
      "[1840]\tcv_agg's binary_error: 0.108831 + 0.00339531\n",
      "[1860]\tcv_agg's binary_error: 0.109242 + 0.00343646\n",
      "[1880]\tcv_agg's binary_error: 0.108702 + 0.00341717\n",
      "[1900]\tcv_agg's binary_error: 0.108446 + 0.00304924\n",
      "[1920]\tcv_agg's binary_error: 0.108163 + 0.0034977\n",
      "[1940]\tcv_agg's binary_error: 0.108343 + 0.00367877\n",
      "[1960]\tcv_agg's binary_error: 0.108112 + 0.00349627\n",
      "[1980]\tcv_agg's binary_error: 0.108189 + 0.00371899\n",
      "[2000]\tcv_agg's binary_error: 0.108394 + 0.00354175\n",
      "[2020]\tcv_agg's binary_error: 0.108368 + 0.00353222\n",
      "[2040]\tcv_agg's binary_error: 0.108009 + 0.00333108\n",
      "[2060]\tcv_agg's binary_error: 0.10824 + 0.00354985\n",
      "[2080]\tcv_agg's binary_error: 0.108163 + 0.00365415\n",
      "[2100]\tcv_agg's binary_error: 0.108266 + 0.00331035\n",
      "[2120]\tcv_agg's binary_error: 0.108189 + 0.00329741\n",
      "[2140]\tcv_agg's binary_error: 0.108035 + 0.00365737\n",
      "[2160]\tcv_agg's binary_error: 0.108214 + 0.00358526\n",
      "[2180]\tcv_agg's binary_error: 0.108112 + 0.00355635\n",
      "[2200]\tcv_agg's binary_error: 0.108266 + 0.00349203\n",
      "[2220]\tcv_agg's binary_error: 0.108189 + 0.00357061\n",
      "[2240]\tcv_agg's binary_error: 0.108317 + 0.0035597\n",
      "[2260]\tcv_agg's binary_error: 0.108317 + 0.00336883\n",
      "[2280]\tcv_agg's binary_error: 0.108548 + 0.00337914\n",
      "[2300]\tcv_agg's binary_error: 0.108368 + 0.00374648\n",
      "[2320]\tcv_agg's binary_error: 0.108446 + 0.00362829\n",
      "[2340]\tcv_agg's binary_error: 0.108523 + 0.00371661\n",
      "[2360]\tcv_agg's binary_error: 0.108266 + 0.0034515\n",
      "[2380]\tcv_agg's binary_error: 0.10842 + 0.00382357\n",
      "[2400]\tcv_agg's binary_error: 0.108317 + 0.00375989\n",
      "[2420]\tcv_agg's binary_error: 0.108677 + 0.00393013\n",
      "[2440]\tcv_agg's binary_error: 0.108343 + 0.00389211\n",
      "[2460]\tcv_agg's binary_error: 0.108523 + 0.00405036\n",
      "[2480]\tcv_agg's binary_error: 0.108677 + 0.00412925\n",
      "[2500]\tcv_agg's binary_error: 0.108702 + 0.00402617\n",
      "[2520]\tcv_agg's binary_error: 0.108266 + 0.00418963\n",
      "[2540]\tcv_agg's binary_error: 0.108548 + 0.00390383\n",
      "[2560]\tcv_agg's binary_error: 0.108574 + 0.00405138\n",
      "[2580]\tcv_agg's binary_error: 0.108137 + 0.00429484\n",
      "[2600]\tcv_agg's binary_error: 0.108214 + 0.0044176\n",
      "[2620]\tcv_agg's binary_error: 0.108343 + 0.00404944\n",
      "[2640]\tcv_agg's binary_error: 0.108523 + 0.00415546\n",
      "[2660]\tcv_agg's binary_error: 0.108446 + 0.00387265\n",
      "[2680]\tcv_agg's binary_error: 0.108214 + 0.004018\n",
      "[2700]\tcv_agg's binary_error: 0.10806 + 0.00403885\n",
      "[2720]\tcv_agg's binary_error: 0.107726 + 0.00443924\n",
      "[2740]\tcv_agg's binary_error: 0.10806 + 0.00448185\n",
      "[2760]\tcv_agg's binary_error: 0.108163 + 0.00461759\n",
      "[2780]\tcv_agg's binary_error: 0.108137 + 0.00456125\n",
      "[2800]\tcv_agg's binary_error: 0.10824 + 0.00438525\n",
      "[2820]\tcv_agg's binary_error: 0.108368 + 0.00440669\n",
      "[2840]\tcv_agg's binary_error: 0.108112 + 0.00436213\n",
      "[2860]\tcv_agg's binary_error: 0.108266 + 0.00448435\n",
      "[2880]\tcv_agg's binary_error: 0.108009 + 0.0047743\n",
      "[2900]\tcv_agg's binary_error: 0.107932 + 0.00480655\n",
      "[2920]\tcv_agg's binary_error: 0.107906 + 0.00438483\n",
      "[2940]\tcv_agg's binary_error: 0.107701 + 0.00404472\n",
      "[2960]\tcv_agg's binary_error: 0.107983 + 0.00438309\n",
      "[2980]\tcv_agg's binary_error: 0.108112 + 0.00450306\n",
      "[3000]\tcv_agg's binary_error: 0.108112 + 0.00424977\n",
      "[3020]\tcv_agg's binary_error: 0.108163 + 0.00433254\n",
      "[3040]\tcv_agg's binary_error: 0.108009 + 0.00401922\n",
      "[3060]\tcv_agg's binary_error: 0.108291 + 0.00415853\n",
      "[3080]\tcv_agg's binary_error: 0.108189 + 0.00382963\n",
      "[3100]\tcv_agg's binary_error: 0.108137 + 0.00392044\n",
      "[3120]\tcv_agg's binary_error: 0.107778 + 0.00389453\n",
      "[3140]\tcv_agg's binary_error: 0.108035 + 0.0041822\n",
      "[3160]\tcv_agg's binary_error: 0.107906 + 0.0040903\n",
      "[3180]\tcv_agg's binary_error: 0.107726 + 0.00367798\n",
      "[3200]\tcv_agg's binary_error: 0.107906 + 0.0040143\n"
     ]
    },
    {
     "name": "stdout",
     "output_type": "stream",
     "text": [
      "[3220]\tcv_agg's binary_error: 0.108163 + 0.00360761\n",
      "[3240]\tcv_agg's binary_error: 0.108368 + 0.00360041\n",
      "[3260]\tcv_agg's binary_error: 0.108291 + 0.00386695\n",
      "[3280]\tcv_agg's binary_error: 0.107778 + 0.00383876\n",
      "[3300]\tcv_agg's binary_error: 0.107958 + 0.00391998\n",
      "[3320]\tcv_agg's binary_error: 0.107726 + 0.00417689\n",
      "[3340]\tcv_agg's binary_error: 0.108086 + 0.00411535\n",
      "[3360]\tcv_agg's binary_error: 0.107906 + 0.0038232\n",
      "[3380]\tcv_agg's binary_error: 0.107906 + 0.00353776\n",
      "[3400]\tcv_agg's binary_error: 0.10806 + 0.0039962\n",
      "[3420]\tcv_agg's binary_error: 0.107829 + 0.00382584\n",
      "[3440]\tcv_agg's binary_error: 0.107752 + 0.00382041\n",
      "[3460]\tcv_agg's binary_error: 0.107572 + 0.00346167\n",
      "[3480]\tcv_agg's binary_error: 0.108034 + 0.00351187\n",
      "[3500]\tcv_agg's binary_error: 0.107803 + 0.00337608\n",
      "[3520]\tcv_agg's binary_error: 0.107983 + 0.00362012\n",
      "[3540]\tcv_agg's binary_error: 0.10788 + 0.00387972\n",
      "[3560]\tcv_agg's binary_error: 0.107726 + 0.00383978\n",
      "[3580]\tcv_agg's binary_error: 0.107649 + 0.00355442\n",
      "[3600]\tcv_agg's binary_error: 0.107752 + 0.00364774\n",
      "[3620]\tcv_agg's binary_error: 0.107855 + 0.00374289\n",
      "[3640]\tcv_agg's binary_error: 0.10806 + 0.00382828\n",
      "[3660]\tcv_agg's binary_error: 0.108291 + 0.00371782\n",
      "[3680]\tcv_agg's binary_error: 0.108291 + 0.0038232\n",
      "[3700]\tcv_agg's binary_error: 0.108445 + 0.00357436\n",
      "[3720]\tcv_agg's binary_error: 0.108137 + 0.00337115\n",
      "[3740]\tcv_agg's binary_error: 0.107932 + 0.0033665\n",
      "[3760]\tcv_agg's binary_error: 0.108214 + 0.00329823\n",
      "[3780]\tcv_agg's binary_error: 0.108112 + 0.00352146\n",
      "[3800]\tcv_agg's binary_error: 0.108137 + 0.00349701\n",
      "[3820]\tcv_agg's binary_error: 0.108112 + 0.00357294\n",
      "[3840]\tcv_agg's binary_error: 0.108137 + 0.0033729\n",
      "[3860]\tcv_agg's binary_error: 0.108009 + 0.00359123\n",
      "[3880]\tcv_agg's binary_error: 0.107957 + 0.00348405\n",
      "[3900]\tcv_agg's binary_error: 0.10842 + 0.00337397\n",
      "[3920]\tcv_agg's binary_error: 0.10842 + 0.00351113\n",
      "[3940]\tcv_agg's binary_error: 0.108343 + 0.00357472\n",
      "[3960]\tcv_agg's binary_error: 0.10842 + 0.00354139\n",
      "[3980]\tcv_agg's binary_error: 0.10842 + 0.00361007\n",
      "[4000]\tcv_agg's binary_error: 0.108086 + 0.00370791\n"
     ]
    }
   ],
   "source": [
    "d_train2 = lgb.Dataset(train_feats2, label = target)\n",
    "\n",
    "params2 = {'task': 'train', 'boosting_type': 'gbdt', 'objective': 'binary', 'metric': 'binary_error', \n",
    "           'learning_rate': 0.05, 'max_depth': 8, 'num_leaves': 71, 'feature_fraction': 0.8, \n",
    "           'bagging_fraction': 0.8, 'bagging_freq': 5}\n",
    "\n",
    "lgb_cv2 = lgb.cv(params2, d_train2, num_boost_round=4000, nfold= 5, shuffle=True, stratified=True, verbose_eval=200)"
   ]
  },
  {
   "cell_type": "code",
   "execution_count": 27,
   "metadata": {
    "collapsed": true
   },
   "outputs": [],
   "source": [
    "## get nround value which hd lowest error\n",
    "nround = lgb_cv2['binary_error-mean'].index(np.min(lgb_cv2['binary_error-mean']))\n",
    "\n",
    "## train the model\n",
    "model4 = lgb.train(params2, d_train2, num_boost_round=nround)\n",
    "\n",
    "## make predictions\n",
    "pred4 = model4.predict(test_feats2)"
   ]
  },
  {
   "cell_type": "code",
   "execution_count": 29,
   "metadata": {},
   "outputs": [
    {
     "name": "stdout",
     "output_type": "stream",
     "text": [
      "[ 0.88726246  0.89288466  0.90033393  0.89545338  0.89211405]\n"
     ]
    }
   ],
   "source": [
    "#[ 0.88726246  0.89288466  0.90033393  0.89545338  0.89211405]\n",
    "model5 = XGBClassifier(learning_rate =0.07,\n",
    "                     n_estimators=600,\n",
    "                     max_depth=9,\n",
    "                     min_child_weight=6,\n",
    "                     gamma=0.1,\n",
    "                     reg_alpha=0.01,\n",
    "                     subsample=0.8,\n",
    "                     colsample_bytree=0.8,\n",
    "                     objective= 'binary:logistic',\n",
    "                     scale_pos_weight=1,\n",
    "                     seed=27)\n",
    "print(cross_val_score(model5, train_feats1, target, cv=5, scoring=make_scorer(accuracy_score)))\n",
    "\n",
    "model5.fit(train_feats1, target)\n",
    "\n",
    "pred5 = model5.predict(test_feats1)"
   ]
  },
  {
   "cell_type": "code",
   "execution_count": 30,
   "metadata": {},
   "outputs": [
    {
     "name": "stdout",
     "output_type": "stream",
     "text": [
      "[ 0.88585003  0.89108657  0.89108657  0.89378371  0.88710506]\n"
     ]
    }
   ],
   "source": [
    "#[ 0.88585003  0.89108657  0.89108657  0.89378371  0.88710506]\n",
    "\n",
    "model6 = XGBClassifier(learning_rate =0.1,\n",
    "                     n_estimators=600,\n",
    "                     max_depth=9,\n",
    "                     min_child_weight=6,\n",
    "                     gamma=0.1,\n",
    "                     reg_alpha=0.01,\n",
    "                     subsample=0.8,\n",
    "                     colsample_bytree=0.8,\n",
    "                     objective= 'binary:logistic',\n",
    "                     scale_pos_weight=1,\n",
    "                     seed=27)\n",
    "print(cross_val_score(model6, train_feats2, target, cv=5, scoring=make_scorer(accuracy_score)))\n",
    "\n",
    "model6.fit(train_feats2, target)\n",
    "\n",
    "pred6 = model6.predict(test_feats2)"
   ]
  },
  {
   "cell_type": "code",
   "execution_count": 31,
   "metadata": {},
   "outputs": [
    {
     "name": "stdout",
     "output_type": "stream",
     "text": [
      "[ 0.87262455  0.87760082  0.88106858  0.86103262  0.86424351]\n"
     ]
    }
   ],
   "source": [
    "#[ 0.87262455  0.87760082  0.88106858  0.86103262  0.86424351]\n",
    "\n",
    "model7 = LogisticRegression(penalty='l2', dual=True, tol=0.0001, \n",
    "                         C=2.8, fit_intercept=True, intercept_scaling=1.0, \n",
    "                         class_weight=None, random_state=None)\n",
    "\n",
    "print(cross_val_score(model7, train_feats1, target, cv=5, scoring=make_scorer(accuracy_score)))\n",
    "model7.fit(train_feats1, target)\n",
    "pred7 = model7.predict(test_feats1)"
   ]
  },
  {
   "cell_type": "code",
   "execution_count": 32,
   "metadata": {},
   "outputs": [
    {
     "name": "stdout",
     "output_type": "stream",
     "text": [
      "[ 0.88263996  0.8858207   0.89031595  0.88607758  0.88376573]\n"
     ]
    }
   ],
   "source": [
    "#[ 0.88263996  0.8858207   0.89031595  0.88607758  0.88376573]\n",
    "\n",
    "model8 = LogisticRegression(penalty='l2', dual=True, tol=0.0001, \n",
    "                         C=2.8, fit_intercept=True, intercept_scaling=1.0, \n",
    "                         class_weight=None, random_state=None)\n",
    "\n",
    "print(cross_val_score(model8, train_feats2, target, cv=5, scoring=make_scorer(accuracy_score)))\n",
    "model8.fit(train_feats2, target)\n",
    "pred8 = model8.predict(test_feats2)"
   ]
  },
  {
   "cell_type": "code",
   "execution_count": 33,
   "metadata": {},
   "outputs": [
    {
     "name": "stdout",
     "output_type": "stream",
     "text": [
      "[ 0.85862866  0.86206011  0.865271    0.85974827  0.86103262]\n"
     ]
    }
   ],
   "source": [
    "model9 = MLPClassifier(hidden_layer_sizes=(90,60,40,20))\n",
    "print(cross_val_score(model9, train_feats1, target, cv=5, scoring=make_scorer(accuracy_score)))\n",
    "model9.fit(train_feats1, target)\n",
    "pred9 = model9.predict(test_feats1)"
   ]
  },
  {
   "cell_type": "code",
   "execution_count": 34,
   "metadata": {},
   "outputs": [
    {
     "name": "stdout",
     "output_type": "stream",
     "text": [
      "[ 0.85952748  0.86154637  0.8670691   0.86360134  0.8710506 ]\n"
     ]
    }
   ],
   "source": [
    "model10 = MLPClassifier(hidden_layer_sizes=(90,60,40,20))\n",
    "print(cross_val_score(model10, train_feats2, target, cv=5, scoring=make_scorer(accuracy_score)))\n",
    "model10.fit(train_feats2, target)\n",
    "pred10 = model10.predict(test_feats2)"
   ]
  },
  {
   "cell_type": "code",
   "execution_count": 60,
   "metadata": {
    "collapsed": true
   },
   "outputs": [],
   "source": [
    "def to_labels(x):\n",
    "    if x > 0.48:\n",
    "        return 1\n",
    "    return 0"
   ]
  },
  {
   "cell_type": "code",
   "execution_count": 90,
   "metadata": {
    "collapsed": true
   },
   "outputs": [],
   "source": [
    "predtrain1 = model1.predict(train_feats1)\n",
    "predtrain2 = model2.predict(train_feats2)\n",
    "\n",
    "predtrain3 = model3.predict(train_feats1)\n",
    "predtrain3 = pd.DataFrame(predtrain3)\n",
    "predtrain3[0] = predtrain3[0].map(lambda x: to_labels(x))\n",
    "\n",
    "predtrain4 = model4.predict(train_feats2)\n",
    "predtrain4 = pd.DataFrame(predtrain4)\n",
    "predtrain4[0] = predtrain4[0].map(lambda x: to_labels(x))\n",
    "\n",
    "predtrain5 = model5.predict(train_feats1)\n",
    "predtrain6 = model6.predict(train_feats2)\n",
    "predtrain7 = model7.predict(train_feats1)\n",
    "predtrain8 = model8.predict(train_feats2)\n",
    "predtrain9 = model9.predict(train_feats1)\n",
    "predtrain10 = model10.predict(train_feats2)"
   ]
  },
  {
   "cell_type": "code",
   "execution_count": 104,
   "metadata": {},
   "outputs": [
    {
     "name": "stdout",
     "output_type": "stream",
     "text": [
      "(38932, 1612)\n",
      "(38932, 11)\n"
     ]
    }
   ],
   "source": [
    "predtrain1 = pd.DataFrame(predtrain1)\n",
    "predtrain2 = pd.DataFrame(predtrain2)\n",
    "predtrain3 = pd.DataFrame(predtrain3)\n",
    "predtrain4 = pd.DataFrame(predtrain4)\n",
    "predtrain5 = pd.DataFrame(predtrain5)\n",
    "predtrain6 = pd.DataFrame(predtrain6)\n",
    "predtrain7 = pd.DataFrame(predtrain7)\n",
    "predtrain8 = pd.DataFrame(predtrain8)\n",
    "predtrain9 = pd.DataFrame(predtrain9)\n",
    "predtrain10 = pd.DataFrame(predtrain10)\n",
    "\n",
    "predictions = pd.concat([predtrain1, predtrain2, predtrain3, predtrain4, predtrain5, predtrain6, predtrain7, predtrain8, predtrain9, predtrain10, target], axis=1)\n",
    "X_train = pd.concat([train_feats1, predtrain1[0], predtrain2[0], predtrain3, predtrain4, predtrain5[0], predtrain6[0], predtrain7[0], predtrain8[0], predtrain9[0], predtrain10[0]], axis=1)\n",
    "print(X_train.shape)\n",
    "print(predictions.shape)"
   ]
  },
  {
   "cell_type": "code",
   "execution_count": 105,
   "metadata": {
    "collapsed": true,
    "scrolled": true
   },
   "outputs": [],
   "source": [
    "# set the data in format lgb accepts\n",
    "predictions['sum'] = predtrain1 + predtrain2 + predtrain3 + predtrain4 + predtrain5 + predtrain6 + predtrain7 + predtrain8 + predtrain9 + predtrain10"
   ]
  },
  {
   "cell_type": "code",
   "execution_count": 110,
   "metadata": {
    "collapsed": true
   },
   "outputs": [],
   "source": [
    "predictions.columns = ['naive1','naive2','lightgbm1','lightgbm2','xgb1','xgb2','logistic1','logistic2','nn1','nn2','Is_Response','sum']"
   ]
  },
  {
   "cell_type": "code",
   "execution_count": 123,
   "metadata": {
    "scrolled": true
   },
   "outputs": [
    {
     "data": {
      "text/plain": [
       "(4017, 12)"
      ]
     },
     "execution_count": 123,
     "metadata": {},
     "output_type": "execute_result"
    }
   ],
   "source": [
    "predictions[predictions['logistic1'] != predictions.Is_Response].shape"
   ]
  },
  {
   "cell_type": "code",
   "execution_count": 112,
   "metadata": {
    "collapsed": true,
    "scrolled": true
   },
   "outputs": [],
   "source": [
    "predictions.to_csv('predictions.csv', index=False)"
   ]
  },
  {
   "cell_type": "code",
   "execution_count": 60,
   "metadata": {
    "collapsed": true
   },
   "outputs": [],
   "source": [
    "from sklearn.decomposition import PCA\n",
    "from sklearn import preprocessing\n",
    "\n",
    "std_scale = preprocessing.StandardScaler().fit(train_feats1)\n",
    "X_train = std_scale.transform(train_feats1)\n",
    "\n",
    "# on non-standardized data\n",
    "pca = PCA(n_components=3).fit(X_train)\n",
    "X_train = pca.transform(X_train)\n"
   ]
  },
  {
   "cell_type": "code",
   "execution_count": 61,
   "metadata": {},
   "outputs": [
    {
     "data": {
      "image/png": "[encoded data removed]",
      "text/plain": [
       "<matplotlib.figure.Figure at 0x7f59957b2160>"
      ]
     },
     "metadata": {},
     "output_type": "display_data"
    }
   ],
   "source": [
    "import matplotlib.pylab as plt\n",
    "from matplotlib.pylab import rcParams\n",
    "\n",
    "\n",
    "fig, (ax1, ax2) = plt.subplots(ncols=2, figsize=(20,8))\n",
    "\n",
    "\n",
    "for l,c,m in zip(range(0,2), ('blue', 'red'), ('^', 's')):\n",
    "    ax1.scatter(X_train[target==l, 0], X_train[target==l, 1],\n",
    "        color=c,\n",
    "        label='class %s' %l,\n",
    "        alpha=0.5,\n",
    "        marker=m\n",
    "        )\n",
    "\n",
    "for l,c,m in zip(range(0,2), ('blue', 'red'), ('^', 's')):\n",
    "    ax2.scatter(X_train[target==l, 0], X_train[target==l, 1],\n",
    "        color=c,\n",
    "        label='class %s' %l,\n",
    "        alpha=0.5,\n",
    "        marker=m\n",
    "        )\n",
    "\n",
    "ax1.set_title('NON-standardized PCA')    \n",
    "ax2.set_title('Transformed standardized training dataset after PCA')    \n",
    "\n",
    "for ax in (ax1, ax2):\n",
    "\n",
    "    ax.set_xlabel('1st principal component')\n",
    "    ax.set_ylabel('2nd principal component')\n",
    "    ax.legend(loc='upper right')\n",
    "    ax.grid()\n",
    "plt.tight_layout()\n",
    "\n",
    "plt.show()"
   ]
  },
  {
   "cell_type": "code",
   "execution_count": 62,
   "metadata": {},
   "outputs": [
    {
     "name": "stderr",
     "output_type": "stream",
     "text": [
      "/home/titanuser/anaconda3/envs/cpu/lib/python3.5/site-packages/matplotlib/cbook.py:136: MatplotlibDeprecationWarning: The axisbg attribute was deprecated in version 2.0. Use facecolor instead.\n",
      "  warnings.warn(message, mplDeprecation, stacklevel=1)\n"
     ]
    },
    {
     "data": {
      "image/png": "[encoded data removed]",
      "text/plain": [
       "<matplotlib.figure.Figure at 0x7f5994a85b00>"
      ]
     },
     "metadata": {},
     "output_type": "display_data"
    }
   ],
   "source": [
    "import matplotlib.pyplot as plt\n",
    "from mpl_toolkits.mplot3d import axes3d\n",
    " \n",
    "\n",
    "data = X_train\n",
    "colors = (\"red\", \"green\", \"blue\")\n",
    "groups = (\"coffee\", \"tea\", \"water\") \n",
    " \n",
    "# Create plot\n",
    "fig = plt.figure()\n",
    "ax = fig.add_subplot(1, 1, 1, axisbg=\"1.0\")\n",
    "ax = fig.gca(projection='3d')\n",
    " \n",
    "for l,c,m in zip(range(0,2), ('blue', 'red'), ('^', 's')):\n",
    "    ax.scatter(X_train[target==l, 0], X_train[target==l, 1],\n",
    "        color=c,\n",
    "        label='class %s' %l,\n",
    "        alpha=0.5,\n",
    "        marker=m\n",
    "        )\n",
    "\n",
    "plt.title('Matplot 3d scatter plot')\n",
    "plt.legend(loc=2)\n",
    "plt.show()"
   ]
  },
  {
   "cell_type": "code",
   "execution_count": 63,
   "metadata": {},
   "outputs": [
    {
     "data": {
      "text/plain": [
       "array([[-5.93004149,  0.99740542, -1.89234542],\n",
       "       [ 3.20252792,  0.25158537, -3.5047709 ],\n",
       "       [ 3.53481969, -1.1483062 , -3.6046322 ],\n",
       "       ..., \n",
       "       [ 4.38940602,  9.49884469,  3.05081073],\n",
       "       [-3.30482179,  1.36770913, -0.97459388],\n",
       "       [-7.67995692,  1.00852684, -0.50200129]])"
      ]
     },
     "execution_count": 63,
     "metadata": {},
     "output_type": "execute_result"
    }
   ],
   "source": [
    "X_train"
   ]
  },
  {
   "cell_type": "code",
   "execution_count": 64,
   "metadata": {},
   "outputs": [
    {
     "data": {
      "text/plain": [
       "SVC(C=1.0, cache_size=200, class_weight=None, coef0=0.0,\n",
       "  decision_function_shape=None, degree=3, gamma='auto', kernel='rbf',\n",
       "  max_iter=-1, probability=False, random_state=None, shrinking=True,\n",
       "  tol=0.001, verbose=False)"
      ]
     },
     "execution_count": 64,
     "metadata": {},
     "output_type": "execute_result"
    }
   ],
   "source": [
    "from sklearn import svm\n",
    "svmclf = svm.SVC()\n",
    "#classifier_linear = svm.SVC(kernel='linear')\n",
    "#classifier_liblinear = svm.LinearSVC()\n",
    "svmclf.fit(X_train, target)\n",
    "#print(cross_val_score(svmclf, X_train, target, cv=5, scoring=make_scorer(accuracy_score)))"
   ]
  },
  {
   "cell_type": "code",
   "execution_count": 65,
   "metadata": {},
   "outputs": [
    {
     "name": "stdout",
     "output_type": "stream",
     "text": [
      "0.850534264872\n"
     ]
    }
   ],
   "source": [
    "print(svmclf.score(X_train, target))"
   ]
  }
 ],
 "metadata": {
  "kernelspec": {
   "display_name": "Python 3",
   "language": "python",
   "name": "python3"
  },
  "language_info": {
   "codemirror_mode": {
    "name": "ipython",
    "version": 3
   },
   "file_extension": ".py",
   "mimetype": "text/x-python",
   "name": "python",
   "nbconvert_exporter": "python",
   "pygments_lexer": "ipython3",
   "version": "3.5.3"
  }
 },
 "nbformat": 4,
 "nbformat_minor": 2
}
