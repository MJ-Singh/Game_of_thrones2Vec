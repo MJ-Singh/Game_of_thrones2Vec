{
 "cells": [
  {
   "cell_type": "markdown",
   "metadata": {},
   "source": [
    "### Load Libraries"
   ]
  },
  {
   "cell_type": "code",
   "execution_count": 1,
   "metadata": {
    "collapsed": true
   },
   "outputs": [],
   "source": [
    "import numpy as np\n",
    "import os, re\n",
    "import matplotlib.pyplot as plt\n",
    "%matplotlib inline\n",
    "from datetime import datetime as dt\n",
    "from sklearn.feature_extraction.text import CountVectorizer, TfidfTransformer\n",
    "from sklearn.metrics import confusion_matrix, f1_score, accuracy_score, precision_score, recall_score, classification_report"
   ]
  },
  {
   "cell_type": "markdown",
   "metadata": {},
   "source": [
    "### Files directory"
   ]
  },
  {
   "cell_type": "code",
   "execution_count": 2,
   "metadata": {
    "collapsed": true
   },
   "outputs": [],
   "source": [
    "root_path = '/home/itachi/Natural_language_processing/data/BBC_data'\n",
    "#top_view folders\n",
    "folders = [root_path + '/' + folder + '/' for folder in os.listdir(root_path)]\n",
    "\n",
    "\n",
    "#there are only 5 classes\n",
    "class_titles = os.listdir(root_path)\n",
    "\n",
    "\n",
    "#list of all the files belonging to each class\n",
    "files = {}\n",
    "for folder, title in zip(folders, class_titles):\n",
    "    files[title] = [folder + f for f in os.listdir(folder)]"
   ]
  },
  {
   "cell_type": "code",
   "execution_count": 3,
   "metadata": {
    "scrolled": true
   },
   "outputs": [
    {
     "name": "stdout",
     "output_type": "stream",
     "text": [
      "['/home/itachi/Natural_language_processing/data/BBC_data/politics/', '/home/itachi/Natural_language_processing/data/BBC_data/sport/', '/home/itachi/Natural_language_processing/data/BBC_data/tech/', '/home/itachi/Natural_language_processing/data/BBC_data/entertainment/', '/home/itachi/Natural_language_processing/data/BBC_data/business/']\n",
      "----------------------------------------------------------------------------------------------------\n",
      "['politics', 'sport', 'tech', 'entertainment', 'business']\n",
      "----------------------------------------------------------------------------------------------------\n",
      "['/home/itachi/Natural_language_processing/data/BBC_data/politics/230.txt', '/home/itachi/Natural_language_processing/data/BBC_data/politics/348.txt', '/home/itachi/Natural_language_processing/data/BBC_data/politics/094.txt', '/home/itachi/Natural_language_processing/data/BBC_data/politics/154.txt', '/home/itachi/Natural_language_processing/data/BBC_data/politics/286.txt']\n"
     ]
    }
   ],
   "source": [
    "print folders[:5]\n",
    "print \"-\"*100\n",
    "print class_titles[:]\n",
    "print \"-\"*100\n",
    "print files['politics'][:5]"
   ]
  },
  {
   "cell_type": "markdown",
   "metadata": {},
   "source": [
    "### Split documents to test and train sets"
   ]
  },
  {
   "cell_type": "code",
   "execution_count": 4,
   "metadata": {
    "collapsed": true
   },
   "outputs": [],
   "source": [
    "train_test_ratio = 0.75\n",
    "\n",
    "def train_test_split(ratio, classes, files):\n",
    "    \"\"\"\n",
    "    this method will split the input list of files to train and test sets.\n",
    "\n",
    "    Parameters:\n",
    "\n",
    "    ratio: ratio of total documents in each class assigned to the training set \n",
    "    \n",
    "    classes: list of label classes\n",
    "    \n",
    "    files: a dictionary with list of files for each class\n",
    "    \"\"\"\n",
    "    # a dictionary with lists of documents in the training set for each class\n",
    "    train_dict = {}\n",
    "    \n",
    "    # a dictionary with lists of documents in the testing set for each class\n",
    "    test_dict = {}  \n",
    "    \n",
    "    for cl in classes:\n",
    "        train_cnt = int(ratio * len(files[cl]))\n",
    "        train_dict[cl] = files[cl][:train_cnt]\n",
    "        test_dict[cl] = files[cl][train_cnt:]\n",
    "    return train_dict, test_dict"
   ]
  },
  {
   "cell_type": "code",
   "execution_count": 5,
   "metadata": {
    "collapsed": true
   },
   "outputs": [],
   "source": [
    "train_path, test_path = train_test_split(train_test_ratio, class_titles, files)"
   ]
  },
  {
   "cell_type": "markdown",
   "metadata": {},
   "source": [
    "### Cleanup text"
   ]
  },
  {
   "cell_type": "code",
   "execution_count": 6,
   "metadata": {
    "collapsed": true
   },
   "outputs": [],
   "source": [
    "pattern = re.compile(r'([a-zA-Z]+|[0-9]+(\\.[0-9]+)?)')\n",
    "\n",
    "def cleanupText(path):\n",
    "    \"\"\"\n",
    "    this method will read in a text file and try to cleanup its text.\n",
    "    \n",
    "    Parameters:\n",
    "    \n",
    "    path: (str) path to the document file\n",
    "    \n",
    "    Returns:\n",
    "    \n",
    "    text_translated: (str) cleaned up version of the raw text in the input file\n",
    "    \"\"\"\n",
    "    from string import punctuation, digits\n",
    "    text_translated = ''\n",
    "    try:\n",
    "        f = open(path)\n",
    "        raw = f.read().lower()\n",
    "        text = pattern.sub(r' \\1 ', raw.replace('\\n', ' '))\n",
    "        text_translated = text.translate(None, punctuation + digits)\n",
    "        text_translated = ' '.join([word for word in text_translated.split(' ') if (word and len(word) > 1)])\n",
    "    finally:\n",
    "        f.close()\n",
    "    return text_translated\n"
   ]
  },
  {
   "cell_type": "markdown",
   "metadata": {},
   "source": [
    "### Create arrays of documents and their corresponding labels"
   ]
  },
  {
   "cell_type": "code",
   "execution_count": 7,
   "metadata": {
    "scrolled": true
   },
   "outputs": [
    {
     "name": "stdout",
     "output_type": "stream",
     "text": [
      "burglar defence guidelines issued householders who\n",
      "----------------------------------------------------------------------------------------------------\n",
      "Articles in test data : 559\n"
     ]
    }
   ],
   "source": [
    "train_arr = []\n",
    "test_arr = []\n",
    "train_lbl = []\n",
    "test_lbl = []\n",
    "for cl in class_titles:\n",
    "    for path in train_path[cl]:\n",
    "        train_arr.append(cleanupText(path))\n",
    "        train_lbl.append(cl)\n",
    "    for path in test_path[cl]:\n",
    "        test_arr.append(cleanupText(path))\n",
    "        test_lbl.append(cl)\n",
    "        \n",
    "# print 50 characters of the first article in training array       \n",
    "print train_arr[0][:50]\n",
    "print \"-\"*100\n",
    "print \"Articles in test data :\",len(test_arr)"
   ]
  },
  {
   "cell_type": "markdown",
   "metadata": {},
   "source": [
    "### Create text vectorizer"
   ]
  },
  {
   "cell_type": "code",
   "execution_count": 8,
   "metadata": {
    "scrolled": true
   },
   "outputs": [
    {
     "name": "stdout",
     "output_type": "stream",
     "text": [
      "(1666, 24854)\n",
      "(559, 24854)\n"
     ]
    }
   ],
   "source": [
    "vectorizer = CountVectorizer()\n",
    "vectorizer.fit(train_arr)\n",
    "train_mat = vectorizer.transform(train_arr)\n",
    "test_mat = vectorizer.transform(test_arr)\n",
    "print train_mat.shape\n",
    "print test_mat.shape"
   ]
  },
  {
   "cell_type": "markdown",
   "metadata": {},
   "source": [
    "### Create Tfidf Transformer"
   ]
  },
  {
   "cell_type": "code",
   "execution_count": 9,
   "metadata": {},
   "outputs": [
    {
     "name": "stdout",
     "output_type": "stream",
     "text": [
      "(1666, 24854)\n",
      "(559, 24854)\n"
     ]
    }
   ],
   "source": [
    "tfidf = TfidfTransformer()\n",
    "tfidf.fit(train_mat)\n",
    "train_tfmat = tfidf.transform(train_mat)\n",
    "test_tfmat = tfidf.transform(test_mat)\n",
    "print train_tfmat.shape\n",
    "print test_tfmat.shape"
   ]
  },
  {
   "cell_type": "markdown",
   "metadata": {},
   "source": [
    "### Test Classifier"
   ]
  },
  {
   "cell_type": "code",
   "execution_count": 10,
   "metadata": {
    "collapsed": true
   },
   "outputs": [],
   "source": [
    "def testClassifier(x_train, y_train, x_test, y_test, clf):\n",
    "    \"\"\"\n",
    "    this method will first train the classifier on the training data\n",
    "    and will then test the trained classifier on test data.\n",
    "    Finally it will report some metrics on the classifier performance.\n",
    "    \n",
    "    Parameters:\n",
    "    \n",
    "    x_train: (np.ndarray) train data matrix\n",
    "    \n",
    "    y_train: (list) train data label\n",
    "    \n",
    "    x_test: (np.ndarray) test data matrix\n",
    "    \n",
    "    y_test: (list) test data label\n",
    "    \n",
    "    clf: sklearn classifier object implementing fit() and predict() methods\n",
    "    \n",
    "    Returns:\n",
    "\n",
    "    metrics: list\n",
    "             [training time, testing time, recall and precision for every class, macro-averaged F1 score]\n",
    "    \"\"\"\n",
    "    metrics = []\n",
    "    start = dt.now()\n",
    "    clf.fit(x_train, y_train)\n",
    "    end = dt.now()\n",
    "    print 'training time: ', (end - start)\n",
    "    \n",
    "    # add training time to metrics\n",
    "    metrics.append(end-start)\n",
    "    \n",
    "    start = dt.now()\n",
    "    pred = clf.predict(x_test)\n",
    "    end = dt.now()\n",
    "    print 'testing time: ', (end - start)\n",
    "    \n",
    "    # add testing time to metrics\n",
    "    metrics.append(end-start)\n",
    "    \n",
    "    print 'classification report: '\n",
    "    # print classification_report(y_test, yhat)\n",
    "    print (classification_report(y_test, pred))\n",
    "    \n",
    "    print 'f1 score'\n",
    "    print f1_score(y_test, pred, average='macro')\n",
    "    \n",
    "    print 'accuracy score'\n",
    "    print accuracy_score(y_test, pred)\n",
    "    \n",
    "    precision = precision_score(y_test, pred, average=None)\n",
    "    recall = recall_score(y_test, pred, average=None)\n",
    "    \n",
    "    # add precision and recall values to metrics\n",
    "    for p, r in zip(precision, recall):\n",
    "        metrics.append(p)\n",
    "        metrics.append(r)\n",
    "    \n",
    "    \n",
    "    #add macro-averaged F1 score to metrics\n",
    "    metrics.append(f1_score(y_test, pred, average='macro'))\n",
    "    \n",
    "    print 'confusion matrix:'\n",
    "    print confusion_matrix(y_test, pred)\n",
    "    \n",
    "    # plotting the confusion matrix\n",
    "    plt.imshow(confusion_matrix(y_test, pred), interpolation='nearest')\n",
    "    plt.show()\n",
    "    \n",
    "    return metrics"
   ]
  },
  {
   "cell_type": "markdown",
   "metadata": {},
   "source": [
    "### Train classifier"
   ]
  },
  {
   "cell_type": "code",
   "execution_count": 11,
   "metadata": {},
   "outputs": [
    {
     "name": "stderr",
     "output_type": "stream",
     "text": [
      "/home/itachi/anaconda3/envs/python2/lib/python2.7/site-packages/sklearn/cross_validation.py:44: DeprecationWarning: This module was deprecated in version 0.18 in favor of the model_selection module into which all the refactored classes and functions are moved. Also note that the interface of the new CV iterators are different from that of this module. This module will be removed in 0.20.\n",
      "  \"This module will be removed in 0.20.\", DeprecationWarning)\n"
     ]
    },
    {
     "name": "stdout",
     "output_type": "stream",
     "text": [
      "training time:  0:05:17.493478\n",
      "testing time:  0:00:00.477151\n",
      "classification report: \n",
      "               precision    recall  f1-score   support\n",
      "\n",
      "     business       0.95      0.92      0.94       128\n",
      "entertainment       0.95      0.98      0.96        97\n",
      "     politics       0.94      0.95      0.95       105\n",
      "        sport       0.97      0.99      0.98       128\n",
      "         tech       0.96      0.93      0.94       101\n",
      "\n",
      "  avg / total       0.96      0.96      0.96       559\n",
      "\n",
      "f1 score\n",
      "0.95485216779\n",
      "accuracy score\n",
      "0.955277280859\n",
      "confusion matrix:\n",
      "[[118   1   4   2   3]\n",
      " [  1  95   1   0   0]\n",
      " [  2   0 100   2   1]\n",
      " [  1   0   0 127   0]\n",
      " [  2   4   1   0  94]]\n"
     ]
    },
    {
     "data": {
      "image/png": "[encoded data removed]",
      "text/plain": [
       "<matplotlib.figure.Figure at 0x7f8bec49cb90>"
      ]
     },
     "metadata": {},
     "output_type": "display_data"
    }
   ],
   "source": [
    "from xgboost import XGBClassifier\n",
    "\n",
    "xgb = XGBClassifier(max_depth=3, learning_rate=0.1, n_estimators=100, objective='binary:logistic',\n",
    "                    nthread=-1, gamma=0, min_child_weight=1, subsample=1, colsample_bytree=1,\n",
    "                    scale_pos_weight=1, seed=0,)\n",
    "xgb_boost = testClassifier(train_tfmat.toarray(), train_lbl, test_tfmat.toarray(), test_lbl, xgb)"
   ]
  },
  {
   "cell_type": "code",
   "execution_count": 12,
   "metadata": {},
   "outputs": [
    {
     "name": "stdout",
     "output_type": "stream",
     "text": [
      "training time:  0:00:42.369388\n",
      "testing time:  0:00:00.123052\n",
      "classification report: \n",
      "               precision    recall  f1-score   support\n",
      "\n",
      "     business       0.98      0.95      0.97       128\n",
      "entertainment       1.00      0.97      0.98        97\n",
      "     politics       0.94      0.99      0.96       105\n",
      "        sport       1.00      1.00      1.00       128\n",
      "         tech       0.97      0.98      0.98       101\n",
      "\n",
      "  avg / total       0.98      0.98      0.98       559\n",
      "\n",
      "f1 score\n",
      "0.978175916612\n",
      "accuracy score\n",
      "0.978533094812\n",
      "confusion matrix:\n",
      "[[122   0   3   0   3]\n",
      " [  0  94   3   0   0]\n",
      " [  1   0 104   0   0]\n",
      " [  0   0   0 128   0]\n",
      " [  1   0   1   0  99]]\n"
     ]
    },
    {
     "data": {
      "image/png": "[encoded data removed]",
      "text/plain": [
       "<matplotlib.figure.Figure at 0x7f8ba331ff50>"
      ]
     },
     "metadata": {},
     "output_type": "display_data"
    }
   ],
   "source": [
    "from sklearn.neural_network import MLPClassifier\n",
    "mlp = MLPClassifier(hidden_layer_sizes=(40,40,40))\n",
    "# If we tune we can get more accuracy\n",
    "neural_net = testClassifier(train_tfmat.toarray(), train_lbl, test_tfmat.toarray(), test_lbl, mlp)"
   ]
  },
  {
   "cell_type": "code",
   "execution_count": 13,
   "metadata": {
    "scrolled": false
   },
   "outputs": [
    {
     "name": "stdout",
     "output_type": "stream",
     "text": [
      "training time:  0:02:42.464283\n",
      "testing time:  0:00:00.052225\n",
      "classification report: \n",
      "               precision    recall  f1-score   support\n",
      "\n",
      "     business       0.91      0.91      0.91       128\n",
      "entertainment       0.95      0.95      0.95        97\n",
      "     politics       0.93      0.95      0.94       105\n",
      "        sport       0.98      0.98      0.98       128\n",
      "         tech       0.93      0.92      0.93       101\n",
      "\n",
      "  avg / total       0.94      0.94      0.94       559\n",
      "\n",
      "f1 score\n",
      "0.942335525171\n",
      "accuracy score\n",
      "0.942754919499\n",
      "confusion matrix:\n",
      "[[117   1   3   2   5]\n",
      " [  3  92   1   0   1]\n",
      " [  4   0 100   0   1]\n",
      " [  1   0   2 125   0]\n",
      " [  3   4   1   0  93]]\n"
     ]
    },
    {
     "data": {
      "image/png": "[encoded data removed]",
      "text/plain": [
       "<matplotlib.figure.Figure at 0x7f8ba1c56e50>"
      ]
     },
     "metadata": {},
     "output_type": "display_data"
    }
   ],
   "source": [
    "from sklearn.ensemble import GradientBoostingClassifier\n",
    "\n",
    "gbm = GradientBoostingClassifier(n_estimators=20, learning_rate=.1,\n",
    "                                max_depth=4, random_state=0, subsample=0.8, max_features=0.5)\n",
    "gbm_boost = testClassifier(train_tfmat.toarray(), train_lbl, test_tfmat.toarray(), test_lbl, gbm)"
   ]
  },
  {
   "cell_type": "code",
   "execution_count": 14,
   "metadata": {},
   "outputs": [
    {
     "name": "stdout",
     "output_type": "stream",
     "text": [
      "training time:  0:01:14.306085\n",
      "testing time:  0:00:00.204210\n",
      "classification report: \n",
      "               precision    recall  f1-score   support\n",
      "\n",
      "     business       0.77      0.83      0.80       128\n",
      "entertainment       0.80      0.89      0.84        97\n",
      "     politics       0.87      0.80      0.83       105\n",
      "        sport       0.97      0.94      0.95       128\n",
      "         tech       0.94      0.87      0.90       101\n",
      "\n",
      "  avg / total       0.87      0.87      0.87       559\n",
      "\n",
      "f1 score\n",
      "0.865953095633\n",
      "accuracy score\n",
      "0.865831842576\n",
      "confusion matrix:\n",
      "[[106   8   8   1   5]\n",
      " [  6  86   4   1   0]\n",
      " [ 11   7  84   2   1]\n",
      " [  5   2   1 120   0]\n",
      " [  9   4   0   0  88]]\n"
     ]
    },
    {
     "data": {
      "image/png": "[encoded data removed]",
      "text/plain": [
       "<matplotlib.figure.Figure at 0x7f8b9b1f6090>"
      ]
     },
     "metadata": {},
     "output_type": "display_data"
    }
   ],
   "source": [
    "from sklearn.ensemble import AdaBoostClassifier\n",
    "from sklearn.tree import DecisionTreeClassifier\n",
    "\n",
    "ada = AdaBoostClassifier(base_estimator=DecisionTreeClassifier(max_depth=4), n_estimators=20, \n",
    "                         learning_rate=.1, algorithm=\"SAMME.R\", random_state=100)\n",
    "ada_boost = testClassifier(train_tfmat.toarray(), train_lbl, test_tfmat.toarray(), test_lbl, ada)"
   ]
  }
 ],
 "metadata": {
  "kernelspec": {
   "display_name": "Python 2",
   "language": "python",
   "name": "python2"
  },
  "language_info": {
   "codemirror_mode": {
    "name": "ipython",
    "version": 2
   },
   "file_extension": ".py",
   "mimetype": "text/x-python",
   "name": "python",
   "nbconvert_exporter": "python",
   "pygments_lexer": "ipython2",
   "version": "2.7.13"
  }
 },
 "nbformat": 4,
 "nbformat_minor": 1
}
