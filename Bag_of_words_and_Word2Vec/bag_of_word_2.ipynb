{
 "cells": [
  {
   "cell_type": "code",
   "execution_count": 2,
   "metadata": {},
   "outputs": [
    {
     "name": "stdout",
     "output_type": "stream",
     "text": [
      "Read 25000 labeled train reviews, 25000 labeled test reviews, and 50000 unlabeled reviews\n",
      "\n"
     ]
    }
   ],
   "source": [
    "import pandas as pd\n",
    "\n",
    "# Read data from files \n",
    "train = pd.read_csv( \"labeledTrainData.tsv\", header=0, \n",
    " delimiter=\"\\t\", quoting=3 )\n",
    "test = pd.read_csv( \"testData.tsv\", header=0, delimiter=\"\\t\", quoting=3 )\n",
    "unlabeled_train = pd.read_csv( \"unlabeledTrainData.tsv\", header=0, \n",
    " delimiter=\"\\t\", quoting=3 )\n",
    "\n",
    "# Verify the number of reviews that were read (100,000 in total)\n",
    "print(\"Read %d labeled train reviews, %d labeled test reviews, \" \\\n",
    " \"and %d unlabeled reviews\\n\" % (train[\"review\"].size,  \n",
    " test[\"review\"].size, unlabeled_train[\"review\"].size ))"
   ]
  },
  {
   "cell_type": "code",
   "execution_count": 7,
   "metadata": {
    "collapsed": true
   },
   "outputs": [],
   "source": [
    "# Import various modules for string cleaning\n",
    "from bs4 import BeautifulSoup\n",
    "import re\n",
    "from nltk.corpus import stopwords\n",
    "\n",
    "def review_to_wordlist( review, remove_stopwords=False ):\n",
    "    # Function to convert a document to a sequence of words,\n",
    "    # optionally removing stop words.  Returns a list of words.\n",
    "    #\n",
    "    # 1. Remove HTML\n",
    "    review_text = BeautifulSoup(review,\"lxml\").get_text()\n",
    "    #  \n",
    "    # 2. Remove non-letters\n",
    "    review_text = re.sub(\"[^a-zA-Z]\",\" \", review_text)\n",
    "    #\n",
    "    # 3. Convert words to lower case and split them\n",
    "    words = review_text.lower().split()\n",
    "    #\n",
    "    # 4. Optionally remove stop words (false by default)\n",
    "    if remove_stopwords:\n",
    "        stops = set(stopwords.words(\"english\"))\n",
    "        words = [w for w in words if not w in stops]\n",
    "    #\n",
    "    # 5. Return a list of words\n",
    "    return(words)"
   ]
  },
  {
   "cell_type": "code",
   "execution_count": 8,
   "metadata": {},
   "outputs": [
    {
     "name": "stdout",
     "output_type": "stream",
     "text": [
      "showing info https://raw.githubusercontent.com/nltk/nltk_data/gh-pages/index.xml\n"
     ]
    }
   ],
   "source": [
    "# Download the punkt tokenizer for sentence splitting\n",
    "import nltk.data\n",
    "nltk.download()   \n",
    "\n",
    "# Load the punkt tokenizer\n",
    "tokenizer = nltk.data.load('tokenizers/punkt/english.pickle')\n",
    "\n",
    "# Define a function to split a review into parsed sentences\n",
    "def review_to_sentences( review, tokenizer, remove_stopwords=False ):\n",
    "    # Function to split a review into parsed sentences. Returns a \n",
    "    # list of sentences, where each sentence is a list of words\n",
    "    #\n",
    "    # 1. Use the NLTK tokenizer to split the paragraph into sentences\n",
    "    raw_sentences = tokenizer.tokenize(review.strip())\n",
    "    #\n",
    "    # 2. Loop over each sentence\n",
    "    sentences = []\n",
    "    for raw_sentence in raw_sentences:\n",
    "        # If a sentence is empty, skip it\n",
    "        if len(raw_sentence) > 0:\n",
    "            # Otherwise, call review_to_wordlist to get a list of words\n",
    "            sentences.append( review_to_wordlist( raw_sentence, \\\n",
    "              remove_stopwords ))\n",
    "    #\n",
    "    # Return the list of sentences (each sentence is a list of words,\n",
    "    # so this returns a list of lists\n",
    "    return sentences"
   ]
  },
  {
   "cell_type": "code",
   "execution_count": 9,
   "metadata": {},
   "outputs": [
    {
     "name": "stdout",
     "output_type": "stream",
     "text": [
      "Parsing sentences from training set\n"
     ]
    },
    {
     "name": "stderr",
     "output_type": "stream",
     "text": [
      "C:\\Users\\Hawkeye\\Anaconda3\\lib\\site-packages\\bs4\\__init__.py:219: UserWarning: \"b'.'\" looks like a filename, not markup. You shouldprobably open this file and pass the filehandle intoBeautiful Soup.\n",
      "  'Beautiful Soup.' % markup)\n",
      "C:\\Users\\Hawkeye\\Anaconda3\\lib\\site-packages\\bs4\\__init__.py:219: UserWarning: \"b'...'\" looks like a filename, not markup. You shouldprobably open this file and pass the filehandle intoBeautiful Soup.\n",
      "  'Beautiful Soup.' % markup)\n",
      "C:\\Users\\Hawkeye\\Anaconda3\\lib\\site-packages\\bs4\\__init__.py:282: UserWarning: \"http://www.happierabroad.com\"\" looks like a URL. Beautiful Soup is not an HTTP client. You should probably use an HTTP client like requests to get the document behind the URL, and feed that document to Beautiful Soup.\n",
      "  ' that document to Beautiful Soup.' % decoded_markup\n",
      "C:\\Users\\Hawkeye\\Anaconda3\\lib\\site-packages\\bs4\\__init__.py:219: UserWarning: \"b'music.'\" looks like a filename, not markup. You shouldprobably open this file and pass the filehandle intoBeautiful Soup.\n",
      "  'Beautiful Soup.' % markup)\n"
     ]
    },
    {
     "name": "stdout",
     "output_type": "stream",
     "text": [
      "Parsing sentences from unlabeled set\n"
     ]
    },
    {
     "name": "stderr",
     "output_type": "stream",
     "text": [
      "C:\\Users\\Hawkeye\\Anaconda3\\lib\\site-packages\\bs4\\__init__.py:282: UserWarning: \"http://www.archive.org/details/LovefromaStranger\"\" looks like a URL. Beautiful Soup is not an HTTP client. You should probably use an HTTP client like requests to get the document behind the URL, and feed that document to Beautiful Soup.\n",
      "  ' that document to Beautiful Soup.' % decoded_markup\n",
      "C:\\Users\\Hawkeye\\Anaconda3\\lib\\site-packages\\bs4\\__init__.py:282: UserWarning: \"http://www.loosechangeguide.com/LooseChangeGuide.html\"\" looks like a URL. Beautiful Soup is not an HTTP client. You should probably use an HTTP client like requests to get the document behind the URL, and feed that document to Beautiful Soup.\n",
      "  ' that document to Beautiful Soup.' % decoded_markup\n",
      "C:\\Users\\Hawkeye\\Anaconda3\\lib\\site-packages\\bs4\\__init__.py:219: UserWarning: \"b'... ...'\" looks like a filename, not markup. You shouldprobably open this file and pass the filehandle intoBeautiful Soup.\n",
      "  'Beautiful Soup.' % markup)\n",
      "C:\\Users\\Hawkeye\\Anaconda3\\lib\\site-packages\\bs4\\__init__.py:219: UserWarning: \"b'....'\" looks like a filename, not markup. You shouldprobably open this file and pass the filehandle intoBeautiful Soup.\n",
      "  'Beautiful Soup.' % markup)\n",
      "C:\\Users\\Hawkeye\\Anaconda3\\lib\\site-packages\\bs4\\__init__.py:282: UserWarning: \"http://www.msnbc.msn.com/id/4972055/site/newsweek/\"\" looks like a URL. Beautiful Soup is not an HTTP client. You should probably use an HTTP client like requests to get the document behind the URL, and feed that document to Beautiful Soup.\n",
      "  ' that document to Beautiful Soup.' % decoded_markup\n",
      "C:\\Users\\Hawkeye\\Anaconda3\\lib\\site-packages\\bs4\\__init__.py:219: UserWarning: \"b'..'\" looks like a filename, not markup. You shouldprobably open this file and pass the filehandle intoBeautiful Soup.\n",
      "  'Beautiful Soup.' % markup)\n",
      "C:\\Users\\Hawkeye\\Anaconda3\\lib\\site-packages\\bs4\\__init__.py:282: UserWarning: \"http://www.youtube.com/watch?v=a0KSqelmgN8\"\" looks like a URL. Beautiful Soup is not an HTTP client. You should probably use an HTTP client like requests to get the document behind the URL, and feed that document to Beautiful Soup.\n",
      "  ' that document to Beautiful Soup.' % decoded_markup\n",
      "C:\\Users\\Hawkeye\\Anaconda3\\lib\\site-packages\\bs4\\__init__.py:219: UserWarning: \"b'.. .'\" looks like a filename, not markup. You shouldprobably open this file and pass the filehandle intoBeautiful Soup.\n",
      "  'Beautiful Soup.' % markup)\n",
      "C:\\Users\\Hawkeye\\Anaconda3\\lib\\site-packages\\bs4\\__init__.py:282: UserWarning: \"http://jake-weird.blogspot.com/2007/08/beneath.html\"\" looks like a URL. Beautiful Soup is not an HTTP client. You should probably use an HTTP client like requests to get the document behind the URL, and feed that document to Beautiful Soup.\n",
      "  ' that document to Beautiful Soup.' % decoded_markup\n"
     ]
    }
   ],
   "source": [
    "sentences = []  # Initialize an empty list of sentences\n",
    "\n",
    "print (\"Parsing sentences from training set\")\n",
    "for review in train[\"review\"]:\n",
    "    sentences += review_to_sentences(review, tokenizer)\n",
    "\n",
    "print (\"Parsing sentences from unlabeled set\")\n",
    "for review in unlabeled_train[\"review\"]:\n",
    "    sentences += review_to_sentences(review, tokenizer)"
   ]
  },
  {
   "cell_type": "code",
   "execution_count": 12,
   "metadata": {},
   "outputs": [
    {
     "name": "stderr",
     "output_type": "stream",
     "text": [
      "C:\\Users\\Hawkeye\\Anaconda3\\lib\\site-packages\\gensim\\utils.py:865: UserWarning: detected Windows; aliasing chunkize to chunkize_serial\n",
      "  warnings.warn(\"detected Windows; aliasing chunkize to chunkize_serial\")\n",
      "2017-08-06 10:24:20,141 : INFO : 'pattern' package not found; tag filters are not available for English\n",
      "2017-08-06 10:24:20,155 : INFO : collecting all words and their counts\n",
      "2017-08-06 10:24:20,157 : INFO : PROGRESS: at sentence #0, processed 0 words, keeping 0 word types\n",
      "2017-08-06 10:24:20,232 : INFO : PROGRESS: at sentence #10000, processed 225803 words, keeping 17776 word types\n",
      "2017-08-06 10:24:20,310 : INFO : PROGRESS: at sentence #20000, processed 451892 words, keeping 24948 word types\n"
     ]
    },
    {
     "name": "stdout",
     "output_type": "stream",
     "text": [
      "Training model...\n"
     ]
    },
    {
     "name": "stderr",
     "output_type": "stream",
     "text": [
      "2017-08-06 10:24:20,402 : INFO : PROGRESS: at sentence #30000, processed 671315 words, keeping 30034 word types\n",
      "2017-08-06 10:24:20,486 : INFO : PROGRESS: at sentence #40000, processed 897815 words, keeping 34348 word types\n",
      "2017-08-06 10:24:20,546 : INFO : PROGRESS: at sentence #50000, processed 1116963 words, keeping 37761 word types\n",
      "2017-08-06 10:24:20,632 : INFO : PROGRESS: at sentence #60000, processed 1338404 words, keeping 40723 word types\n",
      "2017-08-06 10:24:20,695 : INFO : PROGRESS: at sentence #70000, processed 1561580 words, keeping 43333 word types\n",
      "2017-08-06 10:24:20,780 : INFO : PROGRESS: at sentence #80000, processed 1780887 words, keeping 45714 word types\n",
      "2017-08-06 10:24:20,864 : INFO : PROGRESS: at sentence #90000, processed 2004996 words, keeping 48135 word types\n",
      "2017-08-06 10:24:20,961 : INFO : PROGRESS: at sentence #100000, processed 2226966 words, keeping 50207 word types\n",
      "2017-08-06 10:24:21,083 : INFO : PROGRESS: at sentence #110000, processed 2446580 words, keeping 52081 word types\n",
      "2017-08-06 10:24:21,173 : INFO : PROGRESS: at sentence #120000, processed 2668775 words, keeping 54119 word types\n",
      "2017-08-06 10:24:21,318 : INFO : PROGRESS: at sentence #130000, processed 2894303 words, keeping 55847 word types\n",
      "2017-08-06 10:24:21,415 : INFO : PROGRESS: at sentence #140000, processed 3107005 words, keeping 57346 word types\n",
      "2017-08-06 10:24:21,477 : INFO : PROGRESS: at sentence #150000, processed 3332627 words, keeping 59055 word types\n",
      "2017-08-06 10:24:21,565 : INFO : PROGRESS: at sentence #160000, processed 3555315 words, keeping 60617 word types\n",
      "2017-08-06 10:24:21,646 : INFO : PROGRESS: at sentence #170000, processed 3778655 words, keeping 62077 word types\n",
      "2017-08-06 10:24:21,731 : INFO : PROGRESS: at sentence #180000, processed 3999236 words, keeping 63496 word types\n",
      "2017-08-06 10:24:21,798 : INFO : PROGRESS: at sentence #190000, processed 4224449 words, keeping 64794 word types\n",
      "2017-08-06 10:24:21,876 : INFO : PROGRESS: at sentence #200000, processed 4448603 words, keeping 66087 word types\n",
      "2017-08-06 10:24:21,965 : INFO : PROGRESS: at sentence #210000, processed 4669967 words, keeping 67390 word types\n",
      "2017-08-06 10:24:22,046 : INFO : PROGRESS: at sentence #220000, processed 4894968 words, keeping 68697 word types\n",
      "2017-08-06 10:24:22,132 : INFO : PROGRESS: at sentence #230000, processed 5117545 words, keeping 69958 word types\n",
      "2017-08-06 10:24:22,211 : INFO : PROGRESS: at sentence #240000, processed 5345050 words, keeping 71167 word types\n",
      "2017-08-06 10:24:22,279 : INFO : PROGRESS: at sentence #250000, processed 5559165 words, keeping 72351 word types\n",
      "2017-08-06 10:24:22,381 : INFO : PROGRESS: at sentence #260000, processed 5779146 words, keeping 73478 word types\n",
      "2017-08-06 10:24:22,451 : INFO : PROGRESS: at sentence #270000, processed 6000435 words, keeping 74767 word types\n",
      "2017-08-06 10:24:22,531 : INFO : PROGRESS: at sentence #280000, processed 6226314 words, keeping 76369 word types\n",
      "2017-08-06 10:24:22,594 : INFO : PROGRESS: at sentence #290000, processed 6449474 words, keeping 77839 word types\n",
      "2017-08-06 10:24:22,698 : INFO : PROGRESS: at sentence #300000, processed 6674077 words, keeping 79171 word types\n",
      "2017-08-06 10:24:22,761 : INFO : PROGRESS: at sentence #310000, processed 6899391 words, keeping 80480 word types\n",
      "2017-08-06 10:24:22,847 : INFO : PROGRESS: at sentence #320000, processed 7124278 words, keeping 81808 word types\n",
      "2017-08-06 10:24:22,931 : INFO : PROGRESS: at sentence #330000, processed 7346021 words, keeping 83030 word types\n",
      "2017-08-06 10:24:23,011 : INFO : PROGRESS: at sentence #340000, processed 7575533 words, keeping 84280 word types\n",
      "2017-08-06 10:24:23,154 : INFO : PROGRESS: at sentence #350000, processed 7798803 words, keeping 85425 word types\n",
      "2017-08-06 10:24:23,265 : INFO : PROGRESS: at sentence #360000, processed 8019427 words, keeping 86596 word types\n",
      "2017-08-06 10:24:23,367 : INFO : PROGRESS: at sentence #370000, processed 8246619 words, keeping 87708 word types\n",
      "2017-08-06 10:24:23,449 : INFO : PROGRESS: at sentence #380000, processed 8471766 words, keeping 88878 word types\n",
      "2017-08-06 10:24:23,527 : INFO : PROGRESS: at sentence #390000, processed 8701497 words, keeping 89907 word types\n",
      "2017-08-06 10:24:23,616 : INFO : PROGRESS: at sentence #400000, processed 8924446 words, keeping 90916 word types\n",
      "2017-08-06 10:24:23,694 : INFO : PROGRESS: at sentence #410000, processed 9145796 words, keeping 91880 word types\n",
      "2017-08-06 10:24:23,797 : INFO : PROGRESS: at sentence #420000, processed 9366876 words, keeping 92912 word types\n",
      "2017-08-06 10:24:23,860 : INFO : PROGRESS: at sentence #430000, processed 9594413 words, keeping 93932 word types\n",
      "2017-08-06 10:24:23,968 : INFO : PROGRESS: at sentence #440000, processed 9821166 words, keeping 94906 word types\n",
      "2017-08-06 10:24:24,098 : INFO : PROGRESS: at sentence #450000, processed 10044928 words, keeping 96036 word types\n",
      "2017-08-06 10:24:24,216 : INFO : PROGRESS: at sentence #460000, processed 10277688 words, keeping 97088 word types\n",
      "2017-08-06 10:24:24,301 : INFO : PROGRESS: at sentence #470000, processed 10505613 words, keeping 97933 word types\n",
      "2017-08-06 10:24:24,396 : INFO : PROGRESS: at sentence #480000, processed 10725997 words, keeping 98862 word types\n",
      "2017-08-06 10:24:24,482 : INFO : PROGRESS: at sentence #490000, processed 10952741 words, keeping 99871 word types\n",
      "2017-08-06 10:24:24,547 : INFO : PROGRESS: at sentence #500000, processed 11174397 words, keeping 100765 word types\n",
      "2017-08-06 10:24:24,631 : INFO : PROGRESS: at sentence #510000, processed 11399672 words, keeping 101699 word types\n",
      "2017-08-06 10:24:24,709 : INFO : PROGRESS: at sentence #520000, processed 11623020 words, keeping 102598 word types\n",
      "2017-08-06 10:24:24,834 : INFO : PROGRESS: at sentence #530000, processed 11847418 words, keeping 103400 word types\n",
      "2017-08-06 10:24:25,057 : INFO : PROGRESS: at sentence #540000, processed 12072033 words, keeping 104265 word types\n",
      "2017-08-06 10:24:25,183 : INFO : PROGRESS: at sentence #550000, processed 12297571 words, keeping 105133 word types\n",
      "2017-08-06 10:24:25,255 : INFO : PROGRESS: at sentence #560000, processed 12518861 words, keeping 105997 word types\n",
      "2017-08-06 10:24:25,350 : INFO : PROGRESS: at sentence #570000, processed 12747916 words, keeping 106787 word types\n",
      "2017-08-06 10:24:25,433 : INFO : PROGRESS: at sentence #580000, processed 12969412 words, keeping 107665 word types\n",
      "2017-08-06 10:24:25,516 : INFO : PROGRESS: at sentence #590000, processed 13194937 words, keeping 108501 word types\n",
      "2017-08-06 10:24:25,599 : INFO : PROGRESS: at sentence #600000, processed 13417135 words, keeping 109218 word types\n",
      "2017-08-06 10:24:25,687 : INFO : PROGRESS: at sentence #610000, processed 13638158 words, keeping 110092 word types\n",
      "2017-08-06 10:24:25,771 : INFO : PROGRESS: at sentence #620000, processed 13864483 words, keeping 110837 word types\n",
      "2017-08-06 10:24:25,849 : INFO : PROGRESS: at sentence #630000, processed 14088769 words, keeping 111610 word types\n",
      "2017-08-06 10:24:25,946 : INFO : PROGRESS: at sentence #640000, processed 14309552 words, keeping 112416 word types\n",
      "2017-08-06 10:24:26,012 : INFO : PROGRESS: at sentence #650000, processed 14535308 words, keeping 113196 word types\n",
      "2017-08-06 10:24:26,111 : INFO : PROGRESS: at sentence #660000, processed 14758098 words, keeping 113945 word types\n",
      "2017-08-06 10:24:26,189 : INFO : PROGRESS: at sentence #670000, processed 14981482 words, keeping 114643 word types\n",
      "2017-08-06 10:24:26,267 : INFO : PROGRESS: at sentence #680000, processed 15206314 words, keeping 115354 word types\n",
      "2017-08-06 10:24:26,345 : INFO : PROGRESS: at sentence #690000, processed 15428507 words, keeping 116131 word types\n",
      "2017-08-06 10:24:26,450 : INFO : PROGRESS: at sentence #700000, processed 15657213 words, keeping 116943 word types\n",
      "2017-08-06 10:24:26,521 : INFO : PROGRESS: at sentence #710000, processed 15880202 words, keeping 117596 word types\n",
      "2017-08-06 10:24:26,617 : INFO : PROGRESS: at sentence #720000, processed 16105489 words, keeping 118221 word types\n",
      "2017-08-06 10:24:26,700 : INFO : PROGRESS: at sentence #730000, processed 16331870 words, keeping 118954 word types\n",
      "2017-08-06 10:24:26,788 : INFO : PROGRESS: at sentence #740000, processed 16552903 words, keeping 119668 word types\n",
      "2017-08-06 10:24:26,867 : INFO : PROGRESS: at sentence #750000, processed 16771230 words, keeping 120295 word types\n",
      "2017-08-06 10:24:26,957 : INFO : PROGRESS: at sentence #760000, processed 16990622 words, keeping 120930 word types\n",
      "2017-08-06 10:24:27,132 : INFO : PROGRESS: at sentence #770000, processed 17217759 words, keeping 121703 word types\n",
      "2017-08-06 10:24:27,228 : INFO : PROGRESS: at sentence #780000, processed 17447905 words, keeping 122402 word types\n",
      "2017-08-06 10:24:27,297 : INFO : PROGRESS: at sentence #790000, processed 17674981 words, keeping 123066 word types\n",
      "2017-08-06 10:24:27,369 : INFO : collected 123504 word types from a corpus of 17798082 raw words and 795538 sentences\n",
      "2017-08-06 10:24:27,372 : INFO : Loading a fresh vocabulary\n",
      "2017-08-06 10:24:27,557 : INFO : min_count=40 retains 16490 unique words (13% of original 123504, drops 107014)\n",
      "2017-08-06 10:24:27,561 : INFO : min_count=40 leaves 17238940 word corpus (96% of original 17798082, drops 559142)\n",
      "2017-08-06 10:24:27,731 : INFO : deleting the raw counts dictionary of 123504 items\n",
      "2017-08-06 10:24:27,747 : INFO : sample=0.001 downsamples 48 most-common words\n",
      "2017-08-06 10:24:27,747 : INFO : downsampling leaves estimated 12749658 word corpus (74.0% of prior 17238940)\n",
      "2017-08-06 10:24:27,752 : INFO : estimated required memory for 16490 words and 300 dimensions: 47821000 bytes\n",
      "2017-08-06 10:24:27,866 : INFO : resetting layer weights\n",
      "2017-08-06 10:24:28,416 : INFO : training model with 4 workers on 16490 vocabulary and 300 features, using sg=0 hs=0 sample=0.001 negative=5 window=10\n",
      "2017-08-06 10:24:29,449 : INFO : PROGRESS: at 0.45% examples, 284187 words/s, in_qsize 7, out_qsize 0\n",
      "2017-08-06 10:24:30,456 : INFO : PROGRESS: at 1.07% examples, 341022 words/s, in_qsize 7, out_qsize 0\n",
      "2017-08-06 10:24:31,477 : INFO : PROGRESS: at 1.73% examples, 362262 words/s, in_qsize 7, out_qsize 0\n",
      "2017-08-06 10:24:32,503 : INFO : PROGRESS: at 2.39% examples, 373144 words/s, in_qsize 8, out_qsize 0\n",
      "2017-08-06 10:24:33,505 : INFO : PROGRESS: at 3.05% examples, 381095 words/s, in_qsize 8, out_qsize 0\n",
      "2017-08-06 10:24:34,506 : INFO : PROGRESS: at 3.69% examples, 385407 words/s, in_qsize 8, out_qsize 0\n",
      "2017-08-06 10:24:35,523 : INFO : PROGRESS: at 4.33% examples, 386824 words/s, in_qsize 8, out_qsize 0\n",
      "2017-08-06 10:24:36,526 : INFO : PROGRESS: at 4.97% examples, 388957 words/s, in_qsize 7, out_qsize 0\n",
      "2017-08-06 10:24:37,530 : INFO : PROGRESS: at 5.48% examples, 382168 words/s, in_qsize 7, out_qsize 0\n",
      "2017-08-06 10:24:38,545 : INFO : PROGRESS: at 6.08% examples, 381444 words/s, in_qsize 8, out_qsize 0\n",
      "2017-08-06 10:24:39,569 : INFO : PROGRESS: at 6.71% examples, 381809 words/s, in_qsize 8, out_qsize 0\n",
      "2017-08-06 10:24:40,563 : INFO : PROGRESS: at 7.29% examples, 380949 words/s, in_qsize 7, out_qsize 0\n",
      "2017-08-06 10:24:41,590 : INFO : PROGRESS: at 7.86% examples, 379139 words/s, in_qsize 8, out_qsize 0\n",
      "2017-08-06 10:24:42,592 : INFO : PROGRESS: at 8.42% examples, 377522 words/s, in_qsize 7, out_qsize 0\n",
      "2017-08-06 10:24:43,630 : INFO : PROGRESS: at 8.94% examples, 373409 words/s, in_qsize 7, out_qsize 0\n",
      "2017-08-06 10:24:44,640 : INFO : PROGRESS: at 9.49% examples, 372206 words/s, in_qsize 7, out_qsize 0\n",
      "2017-08-06 10:24:45,652 : INFO : PROGRESS: at 10.09% examples, 372759 words/s, in_qsize 8, out_qsize 0\n",
      "2017-08-06 10:24:46,666 : INFO : PROGRESS: at 10.71% examples, 373607 words/s, in_qsize 8, out_qsize 0\n",
      "2017-08-06 10:24:47,677 : INFO : PROGRESS: at 11.33% examples, 374765 words/s, in_qsize 8, out_qsize 0\n",
      "2017-08-06 10:24:48,695 : INFO : PROGRESS: at 11.87% examples, 373208 words/s, in_qsize 8, out_qsize 0\n",
      "2017-08-06 10:24:49,705 : INFO : PROGRESS: at 12.44% examples, 372627 words/s, in_qsize 7, out_qsize 0\n",
      "2017-08-06 10:24:50,717 : INFO : PROGRESS: at 13.08% examples, 373979 words/s, in_qsize 8, out_qsize 0\n",
      "2017-08-06 10:24:51,725 : INFO : PROGRESS: at 13.72% examples, 375327 words/s, in_qsize 7, out_qsize 0\n",
      "2017-08-06 10:24:52,736 : INFO : PROGRESS: at 14.32% examples, 375609 words/s, in_qsize 8, out_qsize 0\n",
      "2017-08-06 10:24:53,738 : INFO : PROGRESS: at 14.93% examples, 375997 words/s, in_qsize 8, out_qsize 0\n",
      "2017-08-06 10:24:54,784 : INFO : PROGRESS: at 15.55% examples, 376259 words/s, in_qsize 7, out_qsize 0\n",
      "2017-08-06 10:24:55,795 : INFO : PROGRESS: at 16.20% examples, 377262 words/s, in_qsize 7, out_qsize 0\n",
      "2017-08-06 10:24:56,799 : INFO : PROGRESS: at 16.79% examples, 377250 words/s, in_qsize 7, out_qsize 0\n",
      "2017-08-06 10:24:57,804 : INFO : PROGRESS: at 17.31% examples, 375544 words/s, in_qsize 7, out_qsize 0\n",
      "2017-08-06 10:24:58,816 : INFO : PROGRESS: at 17.83% examples, 374089 words/s, in_qsize 8, out_qsize 0\n",
      "2017-08-06 10:24:59,801 : INFO : PROGRESS: at 18.42% examples, 374252 words/s, in_qsize 7, out_qsize 0\n",
      "2017-08-06 10:25:00,826 : INFO : PROGRESS: at 19.05% examples, 374622 words/s, in_qsize 7, out_qsize 0\n",
      "2017-08-06 10:25:01,857 : INFO : PROGRESS: at 19.68% examples, 375312 words/s, in_qsize 8, out_qsize 0\n",
      "2017-08-06 10:25:02,890 : INFO : PROGRESS: at 20.30% examples, 375720 words/s, in_qsize 7, out_qsize 0\n",
      "2017-08-06 10:25:03,914 : INFO : PROGRESS: at 20.86% examples, 374960 words/s, in_qsize 8, out_qsize 0\n",
      "2017-08-06 10:25:04,924 : INFO : PROGRESS: at 21.27% examples, 371615 words/s, in_qsize 7, out_qsize 0\n",
      "2017-08-06 10:25:05,922 : INFO : PROGRESS: at 21.72% examples, 369288 words/s, in_qsize 7, out_qsize 0\n",
      "2017-08-06 10:25:06,949 : INFO : PROGRESS: at 22.20% examples, 367301 words/s, in_qsize 8, out_qsize 0\n",
      "2017-08-06 10:25:07,957 : INFO : PROGRESS: at 22.60% examples, 364275 words/s, in_qsize 7, out_qsize 0\n",
      "2017-08-06 10:25:08,963 : INFO : PROGRESS: at 23.04% examples, 362116 words/s, in_qsize 7, out_qsize 1\n",
      "2017-08-06 10:25:09,989 : INFO : PROGRESS: at 23.52% examples, 360410 words/s, in_qsize 7, out_qsize 0\n",
      "2017-08-06 10:25:10,993 : INFO : PROGRESS: at 23.96% examples, 358623 words/s, in_qsize 8, out_qsize 0\n",
      "2017-08-06 10:25:12,009 : INFO : PROGRESS: at 24.39% examples, 356347 words/s, in_qsize 7, out_qsize 0\n",
      "2017-08-06 10:25:13,012 : INFO : PROGRESS: at 24.86% examples, 355066 words/s, in_qsize 8, out_qsize 0\n",
      "2017-08-06 10:25:14,021 : INFO : PROGRESS: at 25.42% examples, 355016 words/s, in_qsize 7, out_qsize 0\n",
      "2017-08-06 10:25:15,011 : INFO : PROGRESS: at 25.99% examples, 355199 words/s, in_qsize 7, out_qsize 0\n",
      "2017-08-06 10:25:16,028 : INFO : PROGRESS: at 26.60% examples, 355656 words/s, in_qsize 7, out_qsize 0\n",
      "2017-08-06 10:25:17,037 : INFO : PROGRESS: at 27.09% examples, 354756 words/s, in_qsize 7, out_qsize 0\n",
      "2017-08-06 10:25:18,056 : INFO : PROGRESS: at 27.56% examples, 353536 words/s, in_qsize 8, out_qsize 0\n",
      "2017-08-06 10:25:19,077 : INFO : PROGRESS: at 28.16% examples, 354025 words/s, in_qsize 7, out_qsize 0\n",
      "2017-08-06 10:25:20,081 : INFO : PROGRESS: at 28.75% examples, 354396 words/s, in_qsize 7, out_qsize 0\n",
      "2017-08-06 10:25:21,117 : INFO : PROGRESS: at 29.35% examples, 354708 words/s, in_qsize 8, out_qsize 0\n",
      "2017-08-06 10:25:22,124 : INFO : PROGRESS: at 29.93% examples, 355071 words/s, in_qsize 8, out_qsize 0\n",
      "2017-08-06 10:25:23,141 : INFO : PROGRESS: at 30.52% examples, 355317 words/s, in_qsize 8, out_qsize 0\n",
      "2017-08-06 10:25:24,137 : INFO : PROGRESS: at 31.10% examples, 355605 words/s, in_qsize 8, out_qsize 0\n",
      "2017-08-06 10:25:25,144 : INFO : PROGRESS: at 31.74% examples, 356603 words/s, in_qsize 8, out_qsize 0\n",
      "2017-08-06 10:25:26,160 : INFO : PROGRESS: at 32.39% examples, 357577 words/s, in_qsize 7, out_qsize 0\n",
      "2017-08-06 10:25:27,183 : INFO : PROGRESS: at 33.06% examples, 358600 words/s, in_qsize 7, out_qsize 0\n",
      "2017-08-06 10:25:28,183 : INFO : PROGRESS: at 33.70% examples, 359400 words/s, in_qsize 8, out_qsize 0\n",
      "2017-08-06 10:25:29,183 : INFO : PROGRESS: at 34.32% examples, 360073 words/s, in_qsize 7, out_qsize 0\n",
      "2017-08-06 10:25:30,200 : INFO : PROGRESS: at 34.88% examples, 359934 words/s, in_qsize 7, out_qsize 0\n",
      "2017-08-06 10:25:31,214 : INFO : PROGRESS: at 35.33% examples, 358728 words/s, in_qsize 7, out_qsize 0\n",
      "2017-08-06 10:25:32,216 : INFO : PROGRESS: at 35.93% examples, 359003 words/s, in_qsize 7, out_qsize 0\n",
      "2017-08-06 10:25:33,213 : INFO : PROGRESS: at 36.56% examples, 359629 words/s, in_qsize 7, out_qsize 0\n",
      "2017-08-06 10:25:34,213 : INFO : PROGRESS: at 37.16% examples, 360020 words/s, in_qsize 7, out_qsize 0\n",
      "2017-08-06 10:25:35,235 : INFO : PROGRESS: at 37.82% examples, 360823 words/s, in_qsize 7, out_qsize 0\n",
      "2017-08-06 10:25:36,266 : INFO : PROGRESS: at 38.48% examples, 361604 words/s, in_qsize 8, out_qsize 0\n",
      "2017-08-06 10:25:37,276 : INFO : PROGRESS: at 39.13% examples, 362260 words/s, in_qsize 7, out_qsize 0\n",
      "2017-08-06 10:25:38,274 : INFO : PROGRESS: at 39.76% examples, 362988 words/s, in_qsize 7, out_qsize 0\n",
      "2017-08-06 10:25:39,287 : INFO : PROGRESS: at 40.31% examples, 362781 words/s, in_qsize 8, out_qsize 0\n",
      "2017-08-06 10:25:40,281 : INFO : PROGRESS: at 40.93% examples, 363170 words/s, in_qsize 7, out_qsize 0\n",
      "2017-08-06 10:25:41,294 : INFO : PROGRESS: at 41.47% examples, 362891 words/s, in_qsize 8, out_qsize 0\n",
      "2017-08-06 10:25:42,306 : INFO : PROGRESS: at 42.04% examples, 362763 words/s, in_qsize 7, out_qsize 0\n",
      "2017-08-06 10:25:43,343 : INFO : PROGRESS: at 42.65% examples, 362900 words/s, in_qsize 7, out_qsize 0\n",
      "2017-08-06 10:25:44,352 : INFO : PROGRESS: at 43.21% examples, 362798 words/s, in_qsize 8, out_qsize 1\n",
      "2017-08-06 10:25:45,352 : INFO : PROGRESS: at 43.79% examples, 362721 words/s, in_qsize 7, out_qsize 0\n",
      "2017-08-06 10:25:46,393 : INFO : PROGRESS: at 44.36% examples, 362552 words/s, in_qsize 8, out_qsize 0\n",
      "2017-08-06 10:25:47,398 : INFO : PROGRESS: at 44.91% examples, 362321 words/s, in_qsize 7, out_qsize 0\n",
      "2017-08-06 10:25:48,411 : INFO : PROGRESS: at 45.53% examples, 362656 words/s, in_qsize 7, out_qsize 0\n",
      "2017-08-06 10:25:49,442 : INFO : PROGRESS: at 46.17% examples, 363108 words/s, in_qsize 7, out_qsize 0\n",
      "2017-08-06 10:25:50,433 : INFO : PROGRESS: at 46.78% examples, 363292 words/s, in_qsize 7, out_qsize 0\n",
      "2017-08-06 10:25:51,448 : INFO : PROGRESS: at 47.39% examples, 363620 words/s, in_qsize 8, out_qsize 0\n",
      "2017-08-06 10:25:52,445 : INFO : PROGRESS: at 47.93% examples, 363356 words/s, in_qsize 7, out_qsize 0\n",
      "2017-08-06 10:25:53,466 : INFO : PROGRESS: at 48.46% examples, 363074 words/s, in_qsize 8, out_qsize 0\n",
      "2017-08-06 10:25:54,465 : INFO : PROGRESS: at 48.99% examples, 362742 words/s, in_qsize 7, out_qsize 0\n",
      "2017-08-06 10:25:55,472 : INFO : PROGRESS: at 49.50% examples, 362323 words/s, in_qsize 8, out_qsize 0\n",
      "2017-08-06 10:25:56,518 : INFO : PROGRESS: at 50.08% examples, 362262 words/s, in_qsize 8, out_qsize 0\n",
      "2017-08-06 10:25:57,549 : INFO : PROGRESS: at 50.55% examples, 361359 words/s, in_qsize 8, out_qsize 0\n",
      "2017-08-06 10:25:58,550 : INFO : PROGRESS: at 51.16% examples, 361677 words/s, in_qsize 8, out_qsize 0\n",
      "2017-08-06 10:25:59,567 : INFO : PROGRESS: at 51.78% examples, 362116 words/s, in_qsize 7, out_qsize 0\n",
      "2017-08-06 10:26:00,567 : INFO : PROGRESS: at 52.42% examples, 362588 words/s, in_qsize 7, out_qsize 0\n",
      "2017-08-06 10:26:01,583 : INFO : PROGRESS: at 53.07% examples, 363085 words/s, in_qsize 7, out_qsize 0\n",
      "2017-08-06 10:26:02,592 : INFO : PROGRESS: at 53.71% examples, 363548 words/s, in_qsize 8, out_qsize 0\n",
      "2017-08-06 10:26:03,592 : INFO : PROGRESS: at 54.36% examples, 364143 words/s, in_qsize 7, out_qsize 0\n",
      "2017-08-06 10:26:04,603 : INFO : PROGRESS: at 55.02% examples, 364637 words/s, in_qsize 8, out_qsize 0\n",
      "2017-08-06 10:26:05,603 : INFO : PROGRESS: at 55.67% examples, 365216 words/s, in_qsize 7, out_qsize 0\n",
      "2017-08-06 10:26:06,619 : INFO : PROGRESS: at 56.33% examples, 365680 words/s, in_qsize 7, out_qsize 0\n",
      "2017-08-06 10:26:07,634 : INFO : PROGRESS: at 56.99% examples, 366167 words/s, in_qsize 7, out_qsize 0\n",
      "2017-08-06 10:26:08,635 : INFO : PROGRESS: at 57.63% examples, 366572 words/s, in_qsize 7, out_qsize 0\n",
      "2017-08-06 10:26:09,651 : INFO : PROGRESS: at 58.27% examples, 367036 words/s, in_qsize 7, out_qsize 0\n",
      "2017-08-06 10:26:10,651 : INFO : PROGRESS: at 58.93% examples, 367486 words/s, in_qsize 7, out_qsize 0\n",
      "2017-08-06 10:26:11,660 : INFO : PROGRESS: at 59.47% examples, 367235 words/s, in_qsize 8, out_qsize 0\n",
      "2017-08-06 10:26:12,705 : INFO : PROGRESS: at 59.99% examples, 366779 words/s, in_qsize 7, out_qsize 0\n",
      "2017-08-06 10:26:13,759 : INFO : PROGRESS: at 60.52% examples, 366368 words/s, in_qsize 7, out_qsize 2\n",
      "2017-08-06 10:26:14,772 : INFO : PROGRESS: at 61.04% examples, 365972 words/s, in_qsize 8, out_qsize 0\n",
      "2017-08-06 10:26:15,772 : INFO : PROGRESS: at 61.65% examples, 366076 words/s, in_qsize 8, out_qsize 0\n",
      "2017-08-06 10:26:16,772 : INFO : PROGRESS: at 62.14% examples, 365585 words/s, in_qsize 7, out_qsize 0\n",
      "2017-08-06 10:26:17,779 : INFO : PROGRESS: at 62.80% examples, 366028 words/s, in_qsize 8, out_qsize 0\n",
      "2017-08-06 10:26:18,783 : INFO : PROGRESS: at 63.31% examples, 365615 words/s, in_qsize 7, out_qsize 0\n",
      "2017-08-06 10:26:19,810 : INFO : PROGRESS: at 63.95% examples, 365925 words/s, in_qsize 7, out_qsize 0\n",
      "2017-08-06 10:26:20,839 : INFO : PROGRESS: at 64.44% examples, 365307 words/s, in_qsize 8, out_qsize 0\n",
      "2017-08-06 10:26:21,837 : INFO : PROGRESS: at 65.01% examples, 365298 words/s, in_qsize 7, out_qsize 0\n",
      "2017-08-06 10:26:22,842 : INFO : PROGRESS: at 65.65% examples, 365645 words/s, in_qsize 7, out_qsize 0\n",
      "2017-08-06 10:26:23,848 : INFO : PROGRESS: at 66.30% examples, 366002 words/s, in_qsize 8, out_qsize 0\n",
      "2017-08-06 10:26:24,858 : INFO : PROGRESS: at 66.95% examples, 366340 words/s, in_qsize 8, out_qsize 0\n",
      "2017-08-06 10:26:25,891 : INFO : PROGRESS: at 67.58% examples, 366574 words/s, in_qsize 8, out_qsize 0\n",
      "2017-08-06 10:26:26,889 : INFO : PROGRESS: at 68.15% examples, 366530 words/s, in_qsize 7, out_qsize 0\n",
      "2017-08-06 10:26:27,907 : INFO : PROGRESS: at 68.73% examples, 366556 words/s, in_qsize 8, out_qsize 0\n",
      "2017-08-06 10:26:28,925 : INFO : PROGRESS: at 69.37% examples, 366804 words/s, in_qsize 7, out_qsize 0\n",
      "2017-08-06 10:26:29,925 : INFO : PROGRESS: at 70.01% examples, 367198 words/s, in_qsize 7, out_qsize 0\n",
      "2017-08-06 10:26:30,938 : INFO : PROGRESS: at 70.67% examples, 367574 words/s, in_qsize 8, out_qsize 0\n",
      "2017-08-06 10:26:31,941 : INFO : PROGRESS: at 71.23% examples, 367539 words/s, in_qsize 7, out_qsize 0\n",
      "2017-08-06 10:26:32,957 : INFO : PROGRESS: at 71.88% examples, 367912 words/s, in_qsize 7, out_qsize 0\n",
      "2017-08-06 10:26:33,958 : INFO : PROGRESS: at 72.48% examples, 367981 words/s, in_qsize 7, out_qsize 0\n",
      "2017-08-06 10:26:34,968 : INFO : PROGRESS: at 73.00% examples, 367716 words/s, in_qsize 8, out_qsize 0\n",
      "2017-08-06 10:26:35,995 : INFO : PROGRESS: at 73.53% examples, 367389 words/s, in_qsize 8, out_qsize 0\n",
      "2017-08-06 10:26:37,001 : INFO : PROGRESS: at 74.04% examples, 367087 words/s, in_qsize 8, out_qsize 0\n",
      "2017-08-06 10:26:38,021 : INFO : PROGRESS: at 74.52% examples, 366572 words/s, in_qsize 7, out_qsize 0\n",
      "2017-08-06 10:26:39,029 : INFO : PROGRESS: at 75.04% examples, 366242 words/s, in_qsize 8, out_qsize 0\n",
      "2017-08-06 10:26:40,030 : INFO : PROGRESS: at 75.69% examples, 366608 words/s, in_qsize 7, out_qsize 0\n",
      "2017-08-06 10:26:41,059 : INFO : PROGRESS: at 76.34% examples, 366904 words/s, in_qsize 8, out_qsize 0\n",
      "2017-08-06 10:26:42,089 : INFO : PROGRESS: at 76.94% examples, 366975 words/s, in_qsize 7, out_qsize 0\n",
      "2017-08-06 10:26:43,095 : INFO : PROGRESS: at 77.56% examples, 367137 words/s, in_qsize 8, out_qsize 0\n",
      "2017-08-06 10:26:44,086 : INFO : PROGRESS: at 78.20% examples, 367431 words/s, in_qsize 7, out_qsize 0\n",
      "2017-08-06 10:26:45,123 : INFO : PROGRESS: at 78.71% examples, 367085 words/s, in_qsize 8, out_qsize 0\n",
      "2017-08-06 10:26:46,155 : INFO : PROGRESS: at 79.24% examples, 366728 words/s, in_qsize 8, out_qsize 0\n",
      "2017-08-06 10:26:47,178 : INFO : PROGRESS: at 79.66% examples, 365981 words/s, in_qsize 8, out_qsize 0\n",
      "2017-08-06 10:26:48,188 : INFO : PROGRESS: at 80.06% examples, 365178 words/s, in_qsize 7, out_qsize 0\n",
      "2017-08-06 10:26:49,193 : INFO : PROGRESS: at 80.58% examples, 364939 words/s, in_qsize 7, out_qsize 0\n",
      "2017-08-06 10:26:50,211 : INFO : PROGRESS: at 81.15% examples, 364891 words/s, in_qsize 8, out_qsize 0\n",
      "2017-08-06 10:26:51,224 : INFO : PROGRESS: at 81.78% examples, 365046 words/s, in_qsize 7, out_qsize 0\n",
      "2017-08-06 10:26:52,248 : INFO : PROGRESS: at 82.24% examples, 364512 words/s, in_qsize 7, out_qsize 0\n",
      "2017-08-06 10:26:53,254 : INFO : PROGRESS: at 82.72% examples, 364060 words/s, in_qsize 7, out_qsize 0\n",
      "2017-08-06 10:26:54,257 : INFO : PROGRESS: at 83.29% examples, 364001 words/s, in_qsize 7, out_qsize 0\n",
      "2017-08-06 10:26:55,279 : INFO : PROGRESS: at 83.85% examples, 363906 words/s, in_qsize 7, out_qsize 0\n",
      "2017-08-06 10:26:56,281 : INFO : PROGRESS: at 84.34% examples, 363522 words/s, in_qsize 8, out_qsize 0\n",
      "2017-08-06 10:26:57,285 : INFO : PROGRESS: at 84.89% examples, 363413 words/s, in_qsize 8, out_qsize 0\n",
      "2017-08-06 10:26:58,296 : INFO : PROGRESS: at 85.51% examples, 363595 words/s, in_qsize 8, out_qsize 0\n",
      "2017-08-06 10:26:59,299 : INFO : PROGRESS: at 86.02% examples, 363358 words/s, in_qsize 7, out_qsize 0\n",
      "2017-08-06 10:27:00,296 : INFO : PROGRESS: at 86.57% examples, 363214 words/s, in_qsize 7, out_qsize 0\n",
      "2017-08-06 10:27:01,316 : INFO : PROGRESS: at 87.18% examples, 363329 words/s, in_qsize 8, out_qsize 0\n",
      "2017-08-06 10:27:02,331 : INFO : PROGRESS: at 87.68% examples, 362996 words/s, in_qsize 7, out_qsize 0\n",
      "2017-08-06 10:27:03,389 : INFO : PROGRESS: at 88.23% examples, 362811 words/s, in_qsize 8, out_qsize 0\n",
      "2017-08-06 10:27:04,397 : INFO : PROGRESS: at 88.74% examples, 362572 words/s, in_qsize 7, out_qsize 0\n",
      "2017-08-06 10:27:05,413 : INFO : PROGRESS: at 89.38% examples, 362804 words/s, in_qsize 7, out_qsize 0\n",
      "2017-08-06 10:27:06,440 : INFO : PROGRESS: at 89.98% examples, 362903 words/s, in_qsize 7, out_qsize 0\n",
      "2017-08-06 10:27:07,446 : INFO : PROGRESS: at 90.53% examples, 362798 words/s, in_qsize 7, out_qsize 0\n",
      "2017-08-06 10:27:08,480 : INFO : PROGRESS: at 91.11% examples, 362798 words/s, in_qsize 8, out_qsize 0\n",
      "2017-08-06 10:27:09,480 : INFO : PROGRESS: at 91.63% examples, 362616 words/s, in_qsize 7, out_qsize 0\n",
      "2017-08-06 10:27:10,478 : INFO : PROGRESS: at 92.18% examples, 362567 words/s, in_qsize 7, out_qsize 0\n",
      "2017-08-06 10:27:11,502 : INFO : PROGRESS: at 92.73% examples, 362457 words/s, in_qsize 7, out_qsize 0\n",
      "2017-08-06 10:27:12,529 : INFO : PROGRESS: at 93.29% examples, 362383 words/s, in_qsize 7, out_qsize 0\n",
      "2017-08-06 10:27:13,556 : INFO : PROGRESS: at 93.82% examples, 362162 words/s, in_qsize 7, out_qsize 0\n",
      "2017-08-06 10:27:14,561 : INFO : PROGRESS: at 94.40% examples, 362194 words/s, in_qsize 7, out_qsize 0\n",
      "2017-08-06 10:27:15,573 : INFO : PROGRESS: at 94.99% examples, 362285 words/s, in_qsize 7, out_qsize 0\n",
      "2017-08-06 10:27:16,594 : INFO : PROGRESS: at 95.54% examples, 362168 words/s, in_qsize 7, out_qsize 0\n",
      "2017-08-06 10:27:17,594 : INFO : PROGRESS: at 96.15% examples, 362302 words/s, in_qsize 7, out_qsize 0\n",
      "2017-08-06 10:27:18,594 : INFO : PROGRESS: at 96.79% examples, 362555 words/s, in_qsize 7, out_qsize 0\n",
      "2017-08-06 10:27:19,604 : INFO : PROGRESS: at 97.44% examples, 362841 words/s, in_qsize 7, out_qsize 0\n",
      "2017-08-06 10:27:20,604 : INFO : PROGRESS: at 98.10% examples, 363173 words/s, in_qsize 7, out_qsize 0\n",
      "2017-08-06 10:27:21,620 : INFO : PROGRESS: at 98.76% examples, 363479 words/s, in_qsize 7, out_qsize 0\n",
      "2017-08-06 10:27:22,635 : INFO : PROGRESS: at 99.41% examples, 363768 words/s, in_qsize 7, out_qsize 0\n",
      "2017-08-06 10:27:23,568 : INFO : worker thread finished; awaiting finish of 3 more threads\n",
      "2017-08-06 10:27:23,583 : INFO : worker thread finished; awaiting finish of 2 more threads\n",
      "2017-08-06 10:27:23,599 : INFO : worker thread finished; awaiting finish of 1 more threads\n",
      "2017-08-06 10:27:23,614 : INFO : worker thread finished; awaiting finish of 0 more threads\n",
      "2017-08-06 10:27:23,614 : INFO : training on 88990410 raw words (63744026 effective words) took 175.2s, 363899 effective words/s\n",
      "2017-08-06 10:27:23,614 : INFO : precomputing L2-norms of word weight vectors\n",
      "2017-08-06 10:27:24,177 : INFO : saving Word2Vec object under 300features_40minwords_10context, separately None\n",
      "2017-08-06 10:27:24,193 : INFO : not storing attribute syn0norm\n",
      "2017-08-06 10:27:24,193 : INFO : not storing attribute cum_table\n",
      "2017-08-06 10:27:25,194 : INFO : saved 300features_40minwords_10context\n"
     ]
    }
   ],
   "source": [
    "# Import the built-in logging module and configure it so that Word2Vec \n",
    "# creates nice output messages\n",
    "import logging\n",
    "logging.basicConfig(format='%(asctime)s : %(levelname)s : %(message)s',\\\n",
    "    level=logging.INFO)\n",
    "\n",
    "# Set values for various parameters\n",
    "num_features = 300    # Word vector dimensionality                      \n",
    "min_word_count = 40   # Minimum word count                        \n",
    "num_workers = 4       # Number of threads to run in parallel\n",
    "context = 10          # Context window size                                                                                    \n",
    "downsampling = 1e-3   # Downsample setting for frequent words\n",
    "\n",
    "# Initialize and train the model (this will take some time)\n",
    "from gensim.models import word2vec\n",
    "print (\"Training model...\")\n",
    "model = word2vec.Word2Vec(sentences, workers=num_workers, \\\n",
    "            size=num_features, min_count = min_word_count, \\\n",
    "            window = context, sample = downsampling)\n",
    "\n",
    "# If you don't plan to train the model any further, calling \n",
    "# init_sims will make the model much more memory-efficient.\n",
    "model.init_sims(replace=True)\n",
    "\n",
    "# It can be helpful to create a meaningful model name and \n",
    "# save the model for later use. You can load it later using Word2Vec.load()\n",
    "model_name = \"300features_40minwords_10context\"\n",
    "model.save(model_name)"
   ]
  },
  {
   "cell_type": "code",
   "execution_count": 13,
   "metadata": {},
   "outputs": [
    {
     "data": {
      "text/plain": [
       "'kitchen'"
      ]
     },
     "execution_count": 13,
     "metadata": {},
     "output_type": "execute_result"
    }
   ],
   "source": [
    "model.doesnt_match(\"man woman child kitchen\".split())"
   ]
  },
  {
   "cell_type": "code",
   "execution_count": 14,
   "metadata": {},
   "outputs": [
    {
     "data": {
      "text/plain": [
       "'berlin'"
      ]
     },
     "execution_count": 14,
     "metadata": {},
     "output_type": "execute_result"
    }
   ],
   "source": [
    "model.doesnt_match(\"france england germany berlin\".split())"
   ]
  },
  {
   "cell_type": "code",
   "execution_count": 16,
   "metadata": {},
   "outputs": [
    {
     "data": {
      "text/plain": [
       "'berlin'"
      ]
     },
     "execution_count": 16,
     "metadata": {},
     "output_type": "execute_result"
    }
   ],
   "source": [
    "model.doesnt_match(\"paris berlin london austria\".split())"
   ]
  },
  {
   "cell_type": "code",
   "execution_count": 17,
   "metadata": {},
   "outputs": [
    {
     "data": {
      "text/plain": [
       "[('woman', 0.6176169514656067),\n",
       " ('lady', 0.5938267707824707),\n",
       " ('lad', 0.5518506765365601),\n",
       " ('monk', 0.5332566499710083),\n",
       " ('guy', 0.5223327875137329),\n",
       " ('farmer', 0.5106891393661499),\n",
       " ('doctor', 0.5073086023330688),\n",
       " ('person', 0.5018740296363831),\n",
       " ('men', 0.5014002919197083),\n",
       " ('businessman', 0.4967166781425476)]"
      ]
     },
     "execution_count": 17,
     "metadata": {},
     "output_type": "execute_result"
    }
   ],
   "source": [
    "model.most_similar(\"man\")"
   ]
  },
  {
   "cell_type": "code",
   "execution_count": 18,
   "metadata": {},
   "outputs": [
    {
     "data": {
      "text/plain": [
       "[('terrible', 0.7703068852424622),\n",
       " ('atrocious', 0.724236786365509),\n",
       " ('dreadful', 0.7165095806121826),\n",
       " ('horrible', 0.7153354287147522),\n",
       " ('abysmal', 0.7045223712921143),\n",
       " ('horrendous', 0.6898051500320435),\n",
       " ('appalling', 0.6853083372116089),\n",
       " ('horrid', 0.6733729839324951),\n",
       " ('lousy', 0.6323549747467041),\n",
       " ('amateurish', 0.6066460609436035)]"
      ]
     },
     "execution_count": 18,
     "metadata": {},
     "output_type": "execute_result"
    }
   ],
   "source": [
    "model.most_similar(\"awful\")"
   ]
  },
  {
   "cell_type": "code",
   "execution_count": 29,
   "metadata": {},
   "outputs": [
    {
     "data": {
      "text/plain": [
       "[('chinese', 0.6904727220535278),\n",
       " ('foreign', 0.6114503741264343),\n",
       " ('spanish', 0.6082684993743896),\n",
       " ('korean', 0.6058086156845093),\n",
       " ('european', 0.6051000356674194),\n",
       " ('asian', 0.6050255298614502),\n",
       " ('indian', 0.6006872653961182),\n",
       " ('norwegian', 0.5854333639144897),\n",
       " ('german', 0.5753902792930603),\n",
       " ('native', 0.572583794593811)]"
      ]
     },
     "execution_count": 29,
     "metadata": {},
     "output_type": "execute_result"
    }
   ],
   "source": [
    "model.most_similar(\"japanese\")"
   ]
  },
  {
   "cell_type": "code",
   "execution_count": null,
   "metadata": {
    "collapsed": true
   },
   "outputs": [],
   "source": []
  }
 ],
 "metadata": {
  "kernelspec": {
   "display_name": "Python 3",
   "language": "python",
   "name": "python3"
  },
  "language_info": {
   "codemirror_mode": {
    "name": "ipython",
    "version": 3
   },
   "file_extension": ".py",
   "mimetype": "text/x-python",
   "name": "python",
   "nbconvert_exporter": "python",
   "pygments_lexer": "ipython3",
   "version": "3.6.1"
  }
 },
 "nbformat": 4,
 "nbformat_minor": 2
}
